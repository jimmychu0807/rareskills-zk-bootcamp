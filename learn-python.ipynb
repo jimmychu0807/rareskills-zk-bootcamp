{
 "cells": [
  {
   "cell_type": "markdown",
   "metadata": {
    "editable": true,
    "slideshow": {
     "slide_type": ""
    },
    "tags": []
   },
   "source": [
    "# Learn Python"
   ]
  },
  {
   "cell_type": "code",
   "execution_count": null,
   "metadata": {
    "editable": true,
    "slideshow": {
     "slide_type": ""
    },
    "tags": []
   },
   "outputs": [],
   "source": [
    "print(\"This line will be printed\")"
   ]
  },
  {
   "cell_type": "code",
   "execution_count": null,
   "metadata": {
    "editable": true,
    "slideshow": {
     "slide_type": ""
    },
    "tags": []
   },
   "outputs": [],
   "source": [
    "x = 1\n",
    "if x == 1:\n",
    "    print(\"x is 1.\")"
   ]
  },
  {
   "cell_type": "code",
   "execution_count": null,
   "metadata": {
    "editable": true,
    "slideshow": {
     "slide_type": ""
    },
    "tags": []
   },
   "outputs": [],
   "source": [
    "print(4+5)"
   ]
  },
  {
   "cell_type": "code",
   "execution_count": null,
   "metadata": {
    "editable": true,
    "slideshow": {
     "slide_type": ""
    },
    "tags": []
   },
   "outputs": [],
   "source": [
    "height = 1.79\n",
    "weight = 68.7\n",
    "x = \"body mass index\"\n",
    "type(x)"
   ]
  },
  {
   "cell_type": "code",
   "execution_count": null,
   "metadata": {
    "editable": true,
    "slideshow": {
     "slide_type": ""
    },
    "tags": []
   },
   "outputs": [],
   "source": [
    "words = ['cat', \"window\", \"defenestrate\"]\n",
    "for w in words:\n",
    "    print(w, len(w))"
   ]
  },
  {
   "cell_type": "code",
   "execution_count": null,
   "metadata": {},
   "outputs": [],
   "source": [
    "price = 100.50\n",
    "price + 1\n",
    "\n",
    "word = \"Python\"\n",
    "word[2:]"
   ]
  },
  {
   "cell_type": "code",
   "execution_count": null,
   "metadata": {},
   "outputs": [],
   "source": [
    "squares = [1, 4, 9, 16, 25]\n",
    "squares[:] = []\n",
    "print(len(squares))"
   ]
  },
  {
   "cell_type": "code",
   "execution_count": null,
   "metadata": {
    "editable": true,
    "slideshow": {
     "slide_type": ""
    },
    "tags": []
   },
   "outputs": [],
   "source": [
    "# Fibonacci series:\n",
    "a, b = 0, 1\n",
    "while a < 1000:\n",
    "  a, b = b, a + b\n",
    "  print(a)"
   ]
  },
  {
   "cell_type": "code",
   "execution_count": null,
   "metadata": {},
   "outputs": [],
   "source": [
    "users = {\n",
    "  'Hans': 'active',\n",
    "  'Éléonore': 'inactive', \n",
    "  '景太郎': 'active',\n",
    "}\n",
    "\n",
    "for user, status in users.copy().items():\n",
    "  if status == 'inactive':\n",
    "    del users[user]\n",
    "\n",
    "users"
   ]
  },
  {
   "cell_type": "code",
   "execution_count": null,
   "metadata": {},
   "outputs": [],
   "source": [
    "point = (4, 1)\n",
    "\n",
    "match point:\n",
    "  case(0, 0):\n",
    "    print(\"Origin\")\n",
    "  case(0, y):\n",
    "    print(f\"pt lies on y-axis with y={y}\")\n",
    "  case(x, 0):\n",
    "    print(f\"pt lies on x-axis with x={x}\")\n",
    "  case(x, y):\n",
    "    print(f\"pt is on ({x}, {y})\")\n",
    "  case _:\n",
    "    raise ValueError(\"Not a point\")"
   ]
  },
  {
   "cell_type": "code",
   "execution_count": null,
   "metadata": {},
   "outputs": [],
   "source": [
    "class Point:\n",
    "  __match_args__ = ('x', 'y')\n",
    "  \n",
    "  def __init__(self, x, y):\n",
    "    self.x = x\n",
    "    self.y = y\n",
    "\n",
    "pt = Point(1, 2)\n",
    "print(pt)"
   ]
  },
  {
   "cell_type": "code",
   "execution_count": null,
   "metadata": {},
   "outputs": [],
   "source": [
    "def fib(n):\n",
    "  result = []\n",
    "  a, b = 0, 1\n",
    "  while a < n:\n",
    "    result.append(a)\n",
    "    a, b = b, a + b\n",
    "  return result;\n",
    "\n",
    "print(fib(100))"
   ]
  },
  {
   "cell_type": "code",
   "execution_count": null,
   "metadata": {
    "scrolled": true
   },
   "outputs": [],
   "source": [
    "def ask_ok(prompt, retries = 4, reminder = \"Please try again!\"):\n",
    "  while True:\n",
    "    reply = input(prompt)\n",
    "    if reply in { 'y', 'ye', 'yes' }:\n",
    "      return True\n",
    "    if reply in { 'n', 'no', 'nop', 'nope' }:\n",
    "      return False\n",
    "    \n",
    "    retries -= 1\n",
    "    if retries <= 0:\n",
    "      raise ValueError('invalid user input')\n",
    "    \n",
    "    print(reminder)\n",
    "\n",
    "ask_ok(\"Are you good?\", 2)"
   ]
  },
  {
   "cell_type": "code",
   "execution_count": null,
   "metadata": {},
   "outputs": [],
   "source": [
    "from collections import deque\n",
    "\n",
    "queue = deque([\"Eric\", \"John\", \"Michael\"])\n",
    "queue.append(\"Terry\")\n",
    "queue.popleft()\n",
    "queue"
   ]
  },
  {
   "cell_type": "code",
   "execution_count": null,
   "metadata": {},
   "outputs": [],
   "source": [
    "from math import pi\n",
    "[str(round(pi, i)) for i in range(6)]"
   ]
  },
  {
   "cell_type": "code",
   "execution_count": null,
   "metadata": {},
   "outputs": [],
   "source": [
    "matrix = [\n",
    "  [1, 2, 3, 4],\n",
    "  [5, 6, 7, 8],\n",
    "  [9, 10, 11, 12]\n",
    "]\n",
    "\n",
    "[[row[i] for row in matrix] for i in range(4)]\n",
    "\n",
    "transposed = []\n",
    "for i in range(4):\n",
    "  transposed.append([row[i] for row in matrix])\n",
    "\n",
    "print(transposed)"
   ]
  },
  {
   "cell_type": "markdown",
   "metadata": {},
   "source": [
    "## String-Bytes-Int-HexString Conversion"
   ]
  },
  {
   "cell_type": "code",
   "execution_count": null,
   "metadata": {},
   "outputs": [],
   "source": [
    "'''str-hexString-bytes-int conversion'''\n",
    "\n",
    "string = \"Oxdeadbeef\"\n",
    "number = 0xdeadbeef\n",
    "\n",
    "# str -> bytes\n",
    "strInBytes = string.encode(\"utf-8\")\n",
    "print(f\"str -> bytes: {strInBytes}, len: {len(strInBytes)}\")\n",
    "\n",
    "# str -> int\n",
    "numFromStr = int(string[2:], 16)\n",
    "print(f\"str -> int: {numFromStr}\")\n",
    "\n",
    "# bytes -> str\n",
    "strConverted = strInBytes.decode(\"utf-8\")\n",
    "print(f\"bytes -> str: {strConverted}\")\n",
    "\n",
    "# bytes -> int\n",
    "intFromBytes = int.from_bytes(strInBytes)\n",
    "print(f\"bytes -> int: {intFromBytes}\")\n",
    "\n",
    "# bytes -> list of integer\n",
    "intArray = [byte for byte in strInBytes]\n",
    "print(f\"bytes -> bytesArray: {intArray}, type: {type(intArray)}\")\n",
    "\n",
    "# bytes -> hexStr: convert from bytes to hex string\n",
    "byteInHex = strInBytes.hex()\n",
    "print(f\"bytes -> hexStr: {byteInHex}\")\n",
    "\n",
    "# int -> str\n",
    "strFromNum = str(number)\n",
    "print(f\"int -> str: {strFromNum}, type: {type(strFromNum)}\")\n",
    "\n",
    "# int -> bytes\n",
    "bytesFromInt = number.to_bytes(length = 4)\n",
    "print(f\"int -> bytes: {bytesFromInt}\")\n",
    "\n",
    "# int -> hexStr\n",
    "hexStrFromInt1 = number.to_bytes(length = 4).hex() # or\n",
    "hexStrFromInt2 = hex(number)\n",
    "print(f\"int -> hexStr 1: {hexStrFromInt1}\")\n",
    "print(f\"int -> hexStr 2: {hexStrFromInt2}\")\n",
    "assert \"0x\" + hexStrFromInt1 == hexStrFromInt2"
   ]
  },
  {
   "cell_type": "markdown",
   "metadata": {},
   "source": [
    "## Datetime Arithmetic"
   ]
  },
  {
   "cell_type": "code",
   "execution_count": null,
   "metadata": {},
   "outputs": [],
   "source": [
    "# Finding the target date\n",
    "from datetime import datetime, timedelta\n",
    "\n",
    "initial_date = datetime(2024, 7, 10)\n",
    "days_to_add = 5\n",
    "target_date = initial_date + timedelta(days = days_to_add)\n",
    "print(f\"target date: {target_date}\")\n",
    "\n",
    "# Calculating the end time\n",
    "start_time = datetime.strptime(\"08:30:00\", \"%H:%M:%S\")\n",
    "duration = timedelta(hours = 1, minutes = 35)\n",
    "end_time = start_time + duration\n",
    "print(f\"end time: {end_time}\")"
   ]
  },
  {
   "cell_type": "markdown",
   "metadata": {
    "jp-MarkdownHeadingCollapsed": true
   },
   "source": [
    "# Learn NumPy"
   ]
  },
  {
   "cell_type": "code",
   "execution_count": null,
   "metadata": {},
   "outputs": [],
   "source": [
    "import numpy as np\n",
    "import matplotlib as mpl"
   ]
  },
  {
   "cell_type": "code",
   "execution_count": null,
   "metadata": {},
   "outputs": [],
   "source": [
    "a = np.arange(15).reshape(3,5)\n",
    "print(a)\n",
    "\n",
    "a.itemsize"
   ]
  },
  {
   "cell_type": "code",
   "execution_count": null,
   "metadata": {},
   "outputs": [],
   "source": [
    "b = np.array([6.0,7.0,8.0])\n",
    "b.dtype"
   ]
  },
  {
   "cell_type": "code",
   "execution_count": null,
   "metadata": {},
   "outputs": [],
   "source": [
    "c = np.array([[1,2], [3,4]], dtype=complex)\n",
    "print(c)\n",
    "c.dtype"
   ]
  },
  {
   "cell_type": "code",
   "execution_count": null,
   "metadata": {},
   "outputs": [],
   "source": [
    "d = np.empty((2, 3, 4), dtype=np.int16)\n",
    "print(d)"
   ]
  },
  {
   "cell_type": "code",
   "execution_count": null,
   "metadata": {},
   "outputs": [],
   "source": [
    "large = np.arange(10000)\n",
    "large.reshape(100,100)"
   ]
  },
  {
   "cell_type": "code",
   "execution_count": null,
   "metadata": {},
   "outputs": [],
   "source": [
    "a = np.array([20, 30, 40, 50])\n",
    "b = np.arange(4)\n",
    "c = a-b\n",
    "print(a)\n",
    "a < 35"
   ]
  },
  {
   "cell_type": "code",
   "execution_count": null,
   "metadata": {},
   "outputs": [],
   "source": [
    "A = np.array([1, 1, 0, 1]).reshape(2,2)\n",
    "B = np.array([2,0,3,4]).reshape(2,2)\n",
    "A.dot(B)\n",
    "\n",
    "rg = np.random.default_rng(1)\n",
    "b = rg.random((2,3))*10\n",
    "a = np.ones((2,3), dtype = int) * 3\n",
    "b += a\n",
    "\n",
    "print(b.sum())\n",
    "print(b.min())\n",
    "print(b.max())"
   ]
  },
  {
   "cell_type": "code",
   "execution_count": null,
   "metadata": {},
   "outputs": [],
   "source": [
    "b = np.arange(12).reshape(3,4)\n",
    "print(b)\n",
    "print(b.cumsum(axis = 1))"
   ]
  },
  {
   "cell_type": "code",
   "execution_count": null,
   "metadata": {},
   "outputs": [],
   "source": [
    "B = np.arange(12).reshape(3,4)\n",
    "print(B)\n",
    "np.transpose(B)"
   ]
  },
  {
   "cell_type": "code",
   "execution_count": null,
   "metadata": {},
   "outputs": [],
   "source": [
    "a = np.arange(10)**3\n",
    "print(a)\n",
    "a[0:6:2] = 1000\n",
    "print(a)"
   ]
  },
  {
   "cell_type": "code",
   "execution_count": null,
   "metadata": {},
   "outputs": [],
   "source": [
    "def f(x, y):\n",
    "    return 10 * x + y\n",
    "\n",
    "b = np.fromfunction(f, (5, 4), dtype = int)\n",
    "print(b)\n",
    "\n",
    "b[1:4, 1:4]"
   ]
  },
  {
   "cell_type": "code",
   "execution_count": null,
   "metadata": {},
   "outputs": [],
   "source": [
    "c = np.array([0, 1, 2, 10, 12, 13, 100, 101, 102, 110, 112, 113]).reshape(2,2,3)\n",
    "print(c)\n",
    "print('---')\n",
    "for row in c:\n",
    "    print(row)"
   ]
  },
  {
   "cell_type": "code",
   "execution_count": null,
   "metadata": {},
   "outputs": [],
   "source": [
    "import numpy as np\n",
    "rg = np.random.default_rng(2)\n",
    "a = np.floor(10 * rg.random((2,2, 3)))\n",
    "b = np.floor(10 * rg.random((2,2, 3)))\n",
    "print(a)\n",
    "print(b)\n",
    "print(\"---\")\n",
    "print(np.vstack((a,b)))\n",
    "print(np.hstack((a,b)))"
   ]
  },
  {
   "cell_type": "markdown",
   "metadata": {
    "jp-MarkdownHeadingCollapsed": true
   },
   "source": [
    "# Learn galois"
   ]
  },
  {
   "cell_type": "code",
   "execution_count": null,
   "metadata": {},
   "outputs": [],
   "source": [
    "import galois\n",
    "\n",
    "GF7 = galois.GF(7, repr=\"power\")\n",
    "GF71 = galois.GF(71, repr=\"power\")\n",
    "print(GF7.properties)"
   ]
  },
  {
   "cell_type": "code",
   "execution_count": null,
   "metadata": {},
   "outputs": [],
   "source": [
    "GF7.elements"
   ]
  },
  {
   "cell_type": "code",
   "execution_count": null,
   "metadata": {},
   "outputs": [],
   "source": [
    "p = GF7.characteristic; print(p)\n",
    "a = GF7(3); print(a)\n",
    "b = GF7(5); print(b)\n",
    "print(GF7.arithmetic_table(\"*\"))\n",
    "a * b"
   ]
  },
  {
   "cell_type": "code",
   "execution_count": null,
   "metadata": {},
   "outputs": [],
   "source": [
    "import numpy as np\n",
    "a / b\n",
    "a / b"
   ]
  },
  {
   "cell_type": "code",
   "execution_count": null,
   "metadata": {
    "scrolled": true
   },
   "outputs": [],
   "source": [
    "g = GF71.primitive_element\n",
    "g.multiplicative_order()\n",
    "print(GF71.repr_table())"
   ]
  },
  {
   "cell_type": "code",
   "execution_count": null,
   "metadata": {
    "scrolled": true
   },
   "outputs": [],
   "source": [
    "GF71.primitive_elements\n",
    "g = GF71(13)\n",
    "print(GF71.repr_table(g))"
   ]
  },
  {
   "cell_type": "code",
   "execution_count": null,
   "metadata": {
    "scrolled": true
   },
   "outputs": [],
   "source": [
    "e = GF71(12)\n",
    "print(e.multiplicative_order())\n",
    "print(GF71.repr_table(e))"
   ]
  },
  {
   "cell_type": "code",
   "execution_count": null,
   "metadata": {},
   "outputs": [],
   "source": [
    "GF9 = galois.GF(3, 2, repr = \"poly\"); print(GF9.properties)"
   ]
  },
  {
   "cell_type": "code",
   "execution_count": null,
   "metadata": {},
   "outputs": [],
   "source": [
    "GF9.elements"
   ]
  },
  {
   "cell_type": "code",
   "execution_count": null,
   "metadata": {},
   "outputs": [],
   "source": [
    "GF9.irreducible_poly\n",
    "a_poly = galois.Poly([1, 2], field = GF9); print(a_poly)\n",
    "b_poly = galois.Poly([1, 1], field = GF9); print(b_poly)\n",
    "a = GF9(\"x+2\");print(f\"a: {a}\")\n",
    "b = GF9(\"x+1\");print(f\"b: {b}\")\n",
    "print(a_poly * b_poly)\n",
    "a * b\n",
    "b ** -1"
   ]
  },
  {
   "cell_type": "code",
   "execution_count": null,
   "metadata": {
    "scrolled": true
   },
   "outputs": [],
   "source": [
    "print(GF9.arithmetic_table(\"+\"))"
   ]
  },
  {
   "cell_type": "code",
   "execution_count": null,
   "metadata": {},
   "outputs": [],
   "source": [
    "g = GF9.primitive_element; g\n",
    "print(GF9.repr_table())"
   ]
  },
  {
   "cell_type": "markdown",
   "metadata": {
    "jp-MarkdownHeadingCollapsed": true
   },
   "source": [
    "# Learn OOP\n",
    "\n",
    "- [Ch9 - Classes](https://docs.python.org/3/tutorial/classes.html)\n",
    "- [Ch10 - Brief Tour of the Standard Library](https://docs.python.org/3/tutorial/stdlib.html)"
   ]
  },
  {
   "cell_type": "code",
   "execution_count": null,
   "metadata": {},
   "outputs": [],
   "source": [
    "class Complex:\n",
    "    def __init__(self, r, i):\n",
    "        self.r = r\n",
    "        self.i = i\n",
    "\n",
    "x = Complex(3.0, -4.5)\n",
    "print(x.r)\n",
    "\n",
    "x.counter = 1\n",
    "while x.counter < 10:\n",
    "    x.counter = x.counter * 2\n",
    "    print(x.counter)\n",
    "print(f\"end: {x.counter}\")"
   ]
  },
  {
   "cell_type": "code",
   "execution_count": null,
   "metadata": {},
   "outputs": [],
   "source": [
    "from dataclasses import dataclass\n",
    "\n",
    "class Dog:\n",
    "    kind = \"canine\"\n",
    "\n",
    "    def __init__(self, name):\n",
    "        self.name = name\n",
    "\n",
    "d = Dog('Fido')\n",
    "e = Dog('Buddy')\n",
    "\n",
    "print(d)\n",
    "print(d.kind); print(d.name)\n",
    "print(e.kind); print(e.name)\n",
    "\n",
    "@dataclass\n",
    "class Employee:\n",
    "    name: str\n",
    "    dept: str\n",
    "    salary: int\n",
    "\n",
    "john = Employee(\"John\", \"Engineering Dept\", 12000)\n",
    "print(john)"
   ]
  },
  {
   "cell_type": "code",
   "execution_count": null,
   "metadata": {},
   "outputs": [],
   "source": [
    "def reverse(data):\n",
    "    for i in range(len(data) - 1, -1, -1):\n",
    "        yield data[i]\n",
    "\n",
    "for char in reverse(\"spamming\"):\n",
    "    print(char)"
   ]
  },
  {
   "cell_type": "markdown",
   "metadata": {},
   "source": [
    "# Ch10 - Standard Library I\n",
    "\n",
    "<https://docs.python.org/3/tutorial/stdlib.html>"
   ]
  },
  {
   "cell_type": "code",
   "execution_count": null,
   "metadata": {},
   "outputs": [],
   "source": [
    "import os\n",
    "print(os.getcwd())\n",
    "os.chdir('/usr')\n",
    "os.system('mkdir today')\n",
    "\n",
    "help(os)"
   ]
  },
  {
   "cell_type": "code",
   "execution_count": null,
   "metadata": {},
   "outputs": [],
   "source": [
    "import datetime\n",
    "\n",
    "halving = datetime.date(2020, 5, 11)\n",
    "print(halving)\n",
    "print(halving + datetime.timedelta(days = 200))\n",
    "print(halving + datetime.timedelta(days = 300))\n",
    "print(halving + datetime.timedelta(days = 400))"
   ]
  }
 ],
 "metadata": {
  "kernelspec": {
   "display_name": "Python 3 (ipykernel)",
   "language": "python",
   "name": "python3"
  },
  "language_info": {
   "codemirror_mode": {
    "name": "ipython",
    "version": 3
   },
   "file_extension": ".py",
   "mimetype": "text/x-python",
   "name": "python",
   "nbconvert_exporter": "python",
   "pygments_lexer": "ipython3",
   "version": "3.12.2"
  }
 },
 "nbformat": 4,
 "nbformat_minor": 4
}
