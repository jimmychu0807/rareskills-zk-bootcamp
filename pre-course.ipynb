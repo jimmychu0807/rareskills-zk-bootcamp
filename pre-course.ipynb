{
 "cells": [
  {
   "cell_type": "markdown",
   "id": "83d5461c-1ab9-4d67-a370-692c8ab823da",
   "metadata": {},
   "source": [
    "# Week 1\n",
    "\n",
    "---\n",
    "\n",
    "## Linear Algebra by 3 brown 1 blue\n",
    "\n",
    "### Day 1\n",
    "\n",
    "- [x]  Video 1: https://www.youtube.com/watch?v=fNk_zzaMoSs\n",
    "- [x]  Video 2: https://www.youtube.com/watch?v=k7RM-ot2NWY\n",
    "\n",
    "### Day 2\n",
    "\n",
    "- [x]  Video 3: https://www.youtube.com/watch?v=kYB8IZa5AuE\n",
    "- [x]  Video 4: https://www.youtube.com/watch?v=XkY2DOUCWMU\n",
    "\n",
    "### Day 3\n",
    "\n",
    "- [x]  Video 5: https://www.youtube.com/watch?v=rHLEWRxRGiM\n",
    "- [x]  Video 6: https://www.youtube.com/watch?v=Ip3X9LOh2dk\n",
    "\n",
    "### Day 4\n",
    "\n",
    "- [x]  Video 7: https://www.youtube.com/watch?v=uQhTuRlWMxw\n",
    "- [x]  Video 8: https://www.youtube.com/watch?v=v8VSDg_WQlA\n",
    "\n",
    "### Day 5\n",
    "\n",
    "- [x]  Video 9: https://www.youtube.com/watch?v=LyGKycYT2v0\n",
    "\n",
    "### Day 6\n",
    "\n",
    "When you finish: Do the python notebook exercises \n",
    "\n",
    "[Practice Problems](https://www.notion.so/Practice-Problems-d82dd816115f4c1fb3989f17c0f332bf?pvs=21)\n",
    "\n",
    "# Week 2\n",
    "\n",
    "---\n",
    "\n",
    "## P vs NP Problem\n",
    "\n",
    "https://www.rareskills.io/post/p-vs-np\n",
    "\n",
    "A very easy introduction to finite fields\n",
    "\n",
    "https://m.youtube.com/watch?v=ColSUxhpn6A\n",
    "\n",
    "### Set Theory by RareSkills (est. 4 days)\n",
    "\n",
    "Doing the exercises in the following tutorial is mandatory\n",
    "\n",
    "https://www.rareskills.io/post/set-theory\n",
    "\n",
    "### Group Theory by RareSkills (est. 3 days)\n",
    "\n",
    "https://www.rareskills.io/post/group-theory-and-coding\n",
    "\n",
    "### Rings and Fields by RareSkills (est. 1 days)\n",
    "\n",
    "Doing the exercises in the following tutorial is mandatory\n",
    "\n",
    "https://www.rareskills.io/post/rings-and-fields\n",
    "\n",
    "In addition to the homeworks linked in the tutorials above, please do the following problem set.\n",
    "\n",
    "For the questions that ask you to “show” something, we are not looking for a proof, just an explaination or argument why the statement is true.\n",
    "\n",
    "The point of the exercise is for you to understand the problem, not to get marks on a test.\n",
    "\n",
    "**Problem set (mandatory):**\n",
    "\n",
    "1. Suppose you have a set {monyet, kodok, burung, ular}. Define a binary operator that turns it into a group using set-theoretic definitions\n",
    "\n",
    "2. Find a binary operator that is closed but not associative for real numbers\n",
    "\n",
    "3. Let our set be real numbers. Show a binary operator that is not closed\n",
    "\n",
    "4 What algebraic structure is all odd integers under multiplication? All even integers under addition?\n",
    "\n",
    "5 Let our group be 3 x 2 matrices of integers under addition. What is the identity and inverse? Can this be a cyclic group, why or why not? (Pay very close attention to the definition of cyclic group)\n",
    "\n",
    "6 Demonstrate that\n",
    "\n",
    "$$\n",
    "n \\pmod p, n=...-2,-1,0,1,2,...\n",
    "$$\n",
    "\n",
    "is a group under addition. Remember, you need to show that:\n",
    "\n",
    "- the binary operator is closed\n",
    "- the binary operator is associative\n",
    "- an indentity exsits\n",
    "- every element has an inverse\n",
    "\n",
    "7 Demonstrate that\n",
    "\n",
    "$$\n",
    "g^{n} \\pmod p, n=...-2, -1, 0, 1, 2...\n",
    "$$\n",
    "\n",
    "Where g and p are relatively prime is a group under multiplication. That is, given elements g^a, g^b, (g^a)*(g^b) is in the group and the binary operator follows the group laws.\n",
    "\n",
    "8 Both integers and polynomials with integer coefficients are rings. It is possible to define a homomorphism from integers to polynomials and polynomials to integers, but it isn’t the same transformation.\n",
    "\n",
    "# Additional Video Resources\n",
    "\n",
    "---\n",
    "\n",
    "Reviewing this material is optional, but if you like video lectures this may be helpful. Sometimes seeing the same information from two angles is helpful, so we provide good resources here.\n",
    "\n",
    "### **Functions**\n",
    "\n",
    "https://www.youtube.com/watch?v=Uzlj6N5OYcM\n",
    "\n",
    "https://www.youtube.com/watch?v=dY9Ltlw-yP0\n",
    "\n",
    "https://www.youtube.com/watch?v=N_auQd-Zrj0\n",
    "\n",
    "### Abstract Algebra Lectures (Option 1)\n",
    "\n",
    "This is a very good high level introduction\n",
    "\n",
    "https://www.youtube.com/watch?v=IP7nW_hKB7I&list=PLi01XoE8jYoi3SgnnGorR_XOW3IcK-TP6\n",
    "\n",
    "You do not need to watch the entire series, just videos 1, 2, 3, 4, 5, 6, 9, 10, 11\n",
    "\n",
    "### Abstract Algebra Lectures (Option 2)\n",
    "\n",
    "If you prefer something a little more mid-level as opposed to high level, this is a good option\n",
    "\n",
    "https://www.youtube.com/playlist?list=PLO1y6V1SXjjNZ90TB7r2lGW-ZFPlCZ1lO\n",
    "\n",
    "You do not need to watch the entire series, just videos 1-15"
   ]
  },
  {
   "cell_type": "markdown",
   "id": "4f74b3aa-7570-4b5e-b021-f4a36374bb89",
   "metadata": {},
   "source": [
    "# Pre-course Exercises"
   ]
  },
  {
   "cell_type": "markdown",
   "id": "6550f901-1264-4292-b7d1-c406189e2fe4",
   "metadata": {
    "editable": true,
    "slideshow": {
     "slide_type": ""
    },
    "tags": []
   },
   "source": [
    "## Numpy warmup\n",
    "Make sure you have numpy installed."
   ]
  },
  {
   "cell_type": "code",
   "execution_count": null,
   "id": "85356797-0b9f-419b-9222-11c8c510ee32",
   "metadata": {
    "editable": true,
    "slideshow": {
     "slide_type": ""
    },
    "tags": []
   },
   "outputs": [],
   "source": [
    "import numpy as np"
   ]
  },
  {
   "cell_type": "markdown",
   "id": "18b6aeef-dc5b-4c16-b60d-a9a6393c9482",
   "metadata": {
    "editable": true,
    "slideshow": {
     "slide_type": ""
    },
    "tags": []
   },
   "source": [
    "### Exercise 1: add two arrays together\n",
    "We have two arrays: A and B\n",
    "\n",
    "`A = [[1,2,3],[4,5,6],[7,8,9]]`\n",
    "\n",
    "`B = [[1,1,1],[2,2,2],[3,3,3]]`\n",
    "\n",
    "`C = [[2,3,4],[6,7,8],[10,11,12]]`\n",
    "\n",
    "Your code should work for general matrices, not just the ones above. Use `np.array`, not `np.matrix`. Your function will need to cast the above to np.arrays. If you get stuck ask chatGPT!"
   ]
  },
  {
   "cell_type": "code",
   "execution_count": null,
   "id": "e3088d54-bb23-45f7-81c5-fb45aa06a5e9",
   "metadata": {
    "editable": true,
    "slideshow": {
     "slide_type": ""
    },
    "tags": []
   },
   "outputs": [],
   "source": [
    "A = [[1,2,3],[4,5,6],[7,8,9]]\n",
    "B = [[1,1,1],[2,2,2],[3,3,3]]\n",
    "C = [[2,3,4],[6,7,8],[10,11,12]]"
   ]
  },
  {
   "cell_type": "code",
   "execution_count": null,
   "id": "e3d08e46-6f4f-4484-8c23-0c041f4f4e1d",
   "metadata": {
    "editable": true,
    "slideshow": {
     "slide_type": ""
    },
    "tags": []
   },
   "outputs": [],
   "source": [
    "def add_arrays(A, B):\n",
    "    # your code here\n",
    "    C = np.array(A) + np.array(B)\n",
    "    return C"
   ]
  },
  {
   "cell_type": "code",
   "execution_count": null,
   "id": "4ddcb35a-6c16-4731-b610-004bd37b3cc0",
   "metadata": {},
   "outputs": [],
   "source": [
    "assert (add_arrays(A, B) == np.array(C)).all()"
   ]
  },
  {
   "cell_type": "markdown",
   "id": "688c6fb5-8654-4ec1-933e-016955a7e0b2",
   "metadata": {},
   "source": [
    "What does the `.all()` do? The above operation does an elementwise equality check. It checks that every item in the array is `True`."
   ]
  },
  {
   "cell_type": "code",
   "execution_count": null,
   "id": "be9c731f-4d02-43a1-96fd-4c0d6b7369dd",
   "metadata": {},
   "outputs": [],
   "source": [
    "add_arrays(A, B) == np.array(C)"
   ]
  },
  {
   "cell_type": "code",
   "execution_count": null,
   "id": "b2dd22c0-173f-4a91-9c2b-00da0558dc6c",
   "metadata": {},
   "outputs": [],
   "source": [
    "print(np.array([True, True, True]).all())\n",
    "print(np.array([False, True, True]).all())"
   ]
  },
  {
   "cell_type": "markdown",
   "id": "88c25a37-383f-4653-828a-a9dece96240c",
   "metadata": {},
   "source": [
    "### Exercise 2: element-wise and matrix multiplication\n",
    "When dealing with numpy arrays, we need to be clear if we are doing matrix multiplication or elementwise multiplication.\n",
    "\n",
    "Your task is to write functions for both. Numpy supports both, figure out how it does it. Don't implement it manually"
   ]
  },
  {
   "cell_type": "code",
   "execution_count": null,
   "id": "025a7751-da49-4dbc-a9c9-df0205eeace0",
   "metadata": {},
   "outputs": [],
   "source": [
    "def matrix_multiply(A, B):\n",
    "    C = A @ B\n",
    "    return C"
   ]
  },
  {
   "cell_type": "code",
   "execution_count": null,
   "id": "a179e104-e1a1-47f6-ba56-943cb9ca4e6a",
   "metadata": {},
   "outputs": [],
   "source": [
    "def element_wise_multiply(A, B):\n",
    "    C = A * B\n",
    "    return C"
   ]
  },
  {
   "cell_type": "markdown",
   "id": "f204a002-4ee5-4d5f-b0e9-b4678d13687d",
   "metadata": {},
   "source": [
    "To avoid giving hints, we won't supply the test case here. But you can check your work online!"
   ]
  },
  {
   "cell_type": "markdown",
   "id": "ae3fd646-de0c-4a06-bb2c-1010e7f03ca4",
   "metadata": {},
   "source": [
    "### Exercise 3: the dot product\n",
    "The dot product is another kind of multiplication.\n",
    "\n",
    "We expect [1,2,3,4] $\\cdot$ [1,2,3,4] to be equal (1 * 1) + (2 * 2) + (3 * 3) + (4 * 4) = 1 + 4 + 9 + 16 = 20\n",
    "\n",
    "Figure out numpy's implementation and do it. Don't implement it manually."
   ]
  },
  {
   "cell_type": "code",
   "execution_count": null,
   "id": "94d2a3d0-acb5-42cc-b9ec-921198344d9c",
   "metadata": {},
   "outputs": [],
   "source": [
    "def dot_product(A, B):\n",
    "    C = A.dot(B)\n",
    "    return C\n",
    "\n",
    "arr = np.array([1, 2, 3, 4]);\n",
    "arr.dot(arr)"
   ]
  },
  {
   "cell_type": "markdown",
   "id": "36b5d8d4-0414-47f4-af0a-1186b9c4cc75",
   "metadata": {},
   "source": [
    "### Exercise 4: linear combinations\n",
    "\n",
    "A linear combination is a Vector multiplied by a constant plus another Vector multiplied by a constant.\n",
    "\n",
    "Aa + Bb = C (A, B, C are vectors, a and b are scalars)\n",
    "\n",
    "Compute the linear combination in the general case."
   ]
  },
  {
   "cell_type": "code",
   "execution_count": null,
   "id": "f3358779-9bc2-469c-9008-12f911021488",
   "metadata": {},
   "outputs": [],
   "source": [
    "def linearCombination(A, B, a, b):\n",
    "    # Todo, add your code\n",
    "    return b * B + a * A"
   ]
  },
  {
   "cell_type": "code",
   "execution_count": null,
   "id": "b404a615-9f07-43c8-bddd-608707e16f47",
   "metadata": {},
   "outputs": [],
   "source": [
    "vector1 = np.array([1,2])\n",
    "vector2 = np.array([5,6])\n",
    "scalar1 = 3\n",
    "scalar2 = 10\n",
    "\n",
    "assert (np.array([53, 66]) == linearCombination(vector1, vector2, scalar1, scalar2)).all()"
   ]
  },
  {
   "cell_type": "markdown",
   "id": "cb9de4ba-403b-404f-92de-78c8a0a8daa9",
   "metadata": {},
   "source": [
    "### Exercise 5: modular arithmetic\n",
    "Modular arithmetic is important in cryptography. The challenge here is to compute the modular inverse of 15 % 1223. That is 15 * x % 1223 == 1. The basic syntax for this is the same as other languages"
   ]
  },
  {
   "cell_type": "code",
   "execution_count": null,
   "id": "3bc8a098-b44b-453a-89e4-2f3d3db2e340",
   "metadata": {},
   "outputs": [],
   "source": [
    "(5 * 16) % 1223"
   ]
  },
  {
   "cell_type": "code",
   "execution_count": null,
   "id": "0e753f94-51f0-4823-8d35-2ecaf855bc41",
   "metadata": {},
   "outputs": [],
   "source": [
    "(5 + 1219) % 1223"
   ]
  },
  {
   "cell_type": "markdown",
   "id": "f129ce11-2405-4702-8d07-0c4de75cab55",
   "metadata": {},
   "source": [
    "Be very careful, because the mod operator sometimes takes precedence!"
   ]
  },
  {
   "cell_type": "code",
   "execution_count": null,
   "id": "b97d4289-7582-4fe6-a386-a9dff5950a04",
   "metadata": {},
   "outputs": [],
   "source": [
    "## Todo: compute x\n",
    "def extended_gcd(a, b):\n",
    "    if a == 0:\n",
    "        return b, 0, 1\n",
    "    gcd, x1, y1 = extended_gcd(b % a, a)\n",
    "    x = y1 - (b // a) * x1\n",
    "    y = x1\n",
    "    return gcd, x, y\n",
    "\n",
    "def multiplicative_inverse(a, m):\n",
    "    gcd, x, y = extended_gcd(a, m)\n",
    "    if gcd != 1:\n",
    "        raise Exception('Multiplicative inverse does not exist')\n",
    "    else:\n",
    "        # x might be negative, so we convert it to the positive equivalent\n",
    "        return x % m\n",
    "\n",
    "x = multiplicative_inverse(5, 1223)\n",
    "print(x)\n",
    "\n",
    "assert 5 * x % 1223 == 1"
   ]
  },
  {
   "cell_type": "markdown",
   "id": "8c2bfda6-fabc-40f3-a9e0-d47f4aeab1cd",
   "metadata": {},
   "source": [
    "Hint: Python 3.8 has a very nice way to do this"
   ]
  },
  {
   "cell_type": "markdown",
   "id": "aecba3f0-c418-443a-ab9b-ec0804dab514",
   "metadata": {},
   "source": [
    "### Exercise 6: Column and Row Slicing\n",
    "\n",
    "Numpy let's you select rows and columns from matrices. For example, given\n",
    "\n",
    "```\n",
    "[[1,2,3],\n",
    " [4,5,6],\n",
    " [7,8,9]] \n",
    "```\n",
    " \n",
    "you can retrive [2,5,8] or [7,8,9] conveniently. Implement those below:"
   ]
  },
  {
   "cell_type": "code",
   "execution_count": null,
   "id": "a9f7cbcd-4230-400a-b11f-323562d5327f",
   "metadata": {},
   "outputs": [],
   "source": [
    "def get_column_as_1d(A, col_number):\n",
    "    # todo\n",
    "    return np.array(A)[:, col_number]\n",
    "\n",
    "def get_row_as_1d(A, row_number):\n",
    "    # todo\n",
    "    return np.array(A)[row_number]"
   ]
  },
  {
   "cell_type": "code",
   "execution_count": null,
   "id": "ac673aaa-2808-48f0-bcdf-65d27998775b",
   "metadata": {},
   "outputs": [],
   "source": [
    "A = [[1,2,3],[4,5,6],[7,8,9]] "
   ]
  },
  {
   "cell_type": "code",
   "execution_count": null,
   "id": "d956950e-0e53-4f4d-82f1-f0d066ef62ca",
   "metadata": {},
   "outputs": [],
   "source": [
    "print(get_column_as_1d(A, 1)) # [2,5,8]"
   ]
  },
  {
   "cell_type": "code",
   "execution_count": null,
   "id": "8eeecc51-d06c-4c3f-8b29-42517fe79046",
   "metadata": {},
   "outputs": [],
   "source": [
    "print(get_row_as_1d(A, 2)) # [7,8,9]"
   ]
  }
 ],
 "metadata": {
  "kernelspec": {
   "display_name": "Python 3 (ipykernel)",
   "language": "python",
   "name": "python3"
  },
  "language_info": {
   "codemirror_mode": {
    "name": "ipython",
    "version": 3
   },
   "file_extension": ".py",
   "mimetype": "text/x-python",
   "name": "python",
   "nbconvert_exporter": "python",
   "pygments_lexer": "ipython3",
   "version": "3.12.2"
  }
 },
 "nbformat": 4,
 "nbformat_minor": 5
}
