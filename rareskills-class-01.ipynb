{
 "cells": [
  {
   "cell_type": "markdown",
   "id": "f4dadae7-a51d-40b9-8628-85f0f031a159",
   "metadata": {},
   "source": [
    "# Rareskills ZK Bootcamp (2024 Jun)"
   ]
  },
  {
   "cell_type": "markdown",
   "id": "ee461a72-13c8-441f-ae4e-70fdaafdffb7",
   "metadata": {},
   "source": [
    "## Class 01 (2024-06-18)"
   ]
  },
  {
   "cell_type": "markdown",
   "id": "d75c3fa6-0bfc-4132-9b0d-68b9f5d44d34",
   "metadata": {},
   "source": [
    "- [Class fireflies recording](https://app.fireflies.ai/view/Week-1-Zero-Knowledge-Proof-w-Jeffrey-Cohort-11-June-RareSkills::PYQexrM8P4L8wUYI)\n",
    "- [homework](https://almondine-song-c43.notion.site/Homework-1-26cad185ffbc479faf060b5867b442ec)\n",
    "- [py_ecc library](https://github.com/ethereum/py_ecc/blob/main/py_ecc/fields/field_elements.py), maybe useful in future."
   ]
  },
  {
   "cell_type": "code",
   "execution_count": null,
   "id": "99ca3004-f843-49d9-a06d-9723f1bff299",
   "metadata": {},
   "outputs": [],
   "source": [
    "# First thing first, import necessary libraries\n",
    "import numpy as np\n",
    "import galois # Perform finite field arithmetic\n",
    "print(f\"galois ver: {galois.__version__}\")\n",
    "print(f\"numpy ver: {np.__version__}\")"
   ]
  },
  {
   "cell_type": "code",
   "execution_count": null,
   "id": "46e18df2-43bb-4876-856b-b9983b174613",
   "metadata": {
    "scrolled": true
   },
   "outputs": [],
   "source": [
    "# You can do power in mod p (finite field)\n",
    "p = 103\n",
    "print(f\"The inverse of 10 mod {p} is {pow(10, -1, p)}\")\n",
    "res = (5 * pow(7, -1, p)) % p\n",
    "print(f\"The equivalent of 5/7 mod {p} is {res}\")\n",
    "assert(res * 7 % p == 5)"
   ]
  },
  {
   "cell_type": "code",
   "execution_count": null,
   "id": "18e6d449-9933-43b8-a202-fb8958e75db0",
   "metadata": {},
   "outputs": [],
   "source": [
    "GF = galois.GF(3**5)\n",
    "print(GF.properties)"
   ]
  },
  {
   "cell_type": "code",
   "execution_count": null,
   "id": "a3635fae-f310-4c31-8da5-a12becd19e4c",
   "metadata": {},
   "outputs": [],
   "source": [
    "GF17 = galois.GF(17)\n",
    "a = GF17(12)\n",
    "b = GF17(15)\n",
    "print(a / b)\n",
    "GF17(5)/GF17(6)"
   ]
  },
  {
   "cell_type": "code",
   "execution_count": null,
   "id": "2a58dc00-fedc-4ca3-8931-01658b8c1f6d",
   "metadata": {},
   "outputs": [],
   "source": [
    "8 * 12 % 17"
   ]
  },
  {
   "cell_type": "code",
   "execution_count": null,
   "id": "8a7e8ff8-dbd2-4d60-b967-0b1a7799b4ee",
   "metadata": {},
   "outputs": [],
   "source": [
    "poly = galois.Poly([1,2,1], field=GF17)"
   ]
  },
  {
   "cell_type": "code",
   "execution_count": null,
   "id": "d3976b28-6dfd-4222-a636-66841c9c1804",
   "metadata": {},
   "outputs": [],
   "source": [
    "(poly * GF17(3)).roots()"
   ]
  },
  {
   "cell_type": "code",
   "execution_count": null,
   "id": "24450041-efbf-43ac-9c99-3cffb828b0c9",
   "metadata": {},
   "outputs": [],
   "source": [
    "poly // galois.Poly([1,-1], field=GF17)"
   ]
  },
  {
   "cell_type": "code",
   "execution_count": null,
   "id": "a9b1f041-a79d-4fc8-8376-61fa589d2ef9",
   "metadata": {},
   "outputs": [],
   "source": [
    "x = GF([236, 87, 38, 112]); print(f\"x: {x}\")\n",
    "y = np.array([109, 17, 108, 224])\n",
    "y = y.view(GF); print(f\"y: {y}\")"
   ]
  },
  {
   "cell_type": "code",
   "execution_count": null,
   "id": "fd78cc5c-c62d-453e-91ac-b963f3c336c3",
   "metadata": {},
   "outputs": [],
   "source": [
    "np.log(x)"
   ]
  },
  {
   "cell_type": "code",
   "execution_count": null,
   "id": "fc001e03-c856-44d5-8f17-989064c2d9f0",
   "metadata": {},
   "outputs": [],
   "source": [
    "print(GF.properties)"
   ]
  },
  {
   "cell_type": "code",
   "execution_count": null,
   "id": "10598e55-bec0-45d1-9087-fe0ff45c41ad",
   "metadata": {},
   "outputs": [],
   "source": [
    "GF17.repr(\"power\"); GF17(16)"
   ]
  },
  {
   "cell_type": "code",
   "execution_count": null,
   "id": "06c02675-88f3-4733-bdc8-598a7bcd92d5",
   "metadata": {},
   "outputs": [],
   "source": [
    "GF243 = galois.GF(3**5); print(GF.properties)"
   ]
  },
  {
   "cell_type": "code",
   "execution_count": null,
   "id": "cb7df9f0-4730-4448-8634-cf26af64099a",
   "metadata": {},
   "outputs": [],
   "source": [
    "GF243.repr(\"poly\"); GF243(117)"
   ]
  },
  {
   "cell_type": "code",
   "execution_count": null,
   "id": "62966f91-5cd9-4b61-a343-28ca56fe25bf",
   "metadata": {},
   "outputs": [],
   "source": [
    "3**4 + 3**3 + 3**2"
   ]
  },
  {
   "cell_type": "code",
   "execution_count": null,
   "id": "2c0c6b29-82ac-4d92-a6e8-6d472fff89a7",
   "metadata": {},
   "outputs": [],
   "source": [
    "GF17.dtypes"
   ]
  },
  {
   "cell_type": "code",
   "execution_count": null,
   "id": "d0ace755-df63-4375-ad0d-1cc6d9d4437d",
   "metadata": {},
   "outputs": [],
   "source": [
    "GF228 = galois.GF(2**8); print(GF228.properties)"
   ]
  },
  {
   "cell_type": "code",
   "execution_count": null,
   "id": "3ed6a50a-dcc4-4f51-80af-55cabea09705",
   "metadata": {},
   "outputs": [],
   "source": [
    "p = galois.Poly([1, 0, 0, 55, 23], field=GF228); p"
   ]
  },
  {
   "cell_type": "code",
   "execution_count": null,
   "id": "e398c3a5-8da8-45c1-99b3-13949574e52d",
   "metadata": {},
   "outputs": [],
   "source": [
    "p.roots()"
   ]
  },
  {
   "cell_type": "code",
   "execution_count": null,
   "id": "c9730072-3891-4595-8ca1-c52c6d6a10d2",
   "metadata": {},
   "outputs": [],
   "source": [
    "(58**4 + 55*58 + 23) % (2**8)"
   ]
  },
  {
   "cell_type": "code",
   "execution_count": null,
   "id": "437cc801-c4af-440f-86ce-d52a24449f94",
   "metadata": {},
   "outputs": [],
   "source": [
    "p = 2**8\n",
    "x = 58\n",
    "\n",
    "(x**4 + 55 * x + 23) % p"
   ]
  },
  {
   "cell_type": "markdown",
   "id": "55a2bb6d-1613-4e63-89cb-55d1cebad7a0",
   "metadata": {},
   "source": [
    "## Homework"
   ]
  },
  {
   "cell_type": "markdown",
   "id": "8c3a1212-1e45-4f29-a5d0-656cc6b23897",
   "metadata": {},
   "source": [
    "### Problem 1"
   ]
  },
  {
   "cell_type": "code",
   "execution_count": null,
   "id": "e6289447-9c54-4ad0-a5f6-da3e6b1f03b3",
   "metadata": {},
   "outputs": [],
   "source": [
    "p = 71\n",
    "\n",
    "def toFiniteField(n, p):\n",
    "    assert p > 0, f\"p has to be a positive integer. We got {p}\"\n",
    "    if (n >= 0 and n < p): return n\n",
    "    val = n\n",
    "    while (n < 0):\n",
    "        val += p\n",
    "        if (val >= 0): return val\n",
    "    while (n >= p):\n",
    "        val -= p\n",
    "        if (val < p): return val\n",
    "\n",
    "# For -1\n",
    "q1 = -1\n",
    "s1 = toFiniteField(q1, p); print(f\"{q1}: {s1}\")\n",
    "\n",
    "# For -4\n",
    "q2 = -4\n",
    "s2 = toFiniteField(q2, p); print(f\"{q2}: {s2}\")\n",
    "\n",
    "# For -160\n",
    "q3 = -160\n",
    "s3 = toFiniteField(q3, p); print(f\"{q3}: {s3}\")\n",
    "\n",
    "# For 500\n",
    "q4 = 500\n",
    "s4 = toFiniteField(q4, p); print(f\"{q4}: {s4}\")"
   ]
  },
  {
   "cell_type": "markdown",
   "id": "e5a6bc28-54df-41c0-9d77-d3948d897e8e",
   "metadata": {},
   "source": [
    "### Problem 2"
   ]
  },
  {
   "cell_type": "code",
   "execution_count": null,
   "id": "cd5ceb4e-4c22-44a9-bc27-e88ce823f025",
   "metadata": {},
   "outputs": [],
   "source": [
    "import galois\n",
    "\n",
    "print(f\"p = {p}\")\n",
    "GF71 = galois.GF(p)\n",
    "\n",
    "# a = 5/6\n",
    "a = GF71(5)/GF71(6); print(f\"a: {a}\")\n",
    "\n",
    "# b = 11/12\n",
    "b = GF71(11)/GF71(12); print(f\"b: {b}\")\n",
    "\n",
    "# c = 21/12\n",
    "c = GF71(21)/GF71(12); print(f\"c: {c}\")\n",
    "\n",
    "assert a + b == c"
   ]
  },
  {
   "cell_type": "markdown",
   "id": "5a331ee9-b34d-4c35-b2d8-e4b3297f985c",
   "metadata": {},
   "source": [
    "### Problem 3"
   ]
  },
  {
   "cell_type": "code",
   "execution_count": null,
   "id": "46c57ed6-a08d-48a2-b468-0a5e633534c3",
   "metadata": {},
   "outputs": [],
   "source": [
    "# a = 2/3\n",
    "# b = 1/2\n",
    "# c = 1/3"
   ]
  }
 ],
 "metadata": {
  "kernelspec": {
   "display_name": "Python 3 (ipykernel)",
   "language": "python",
   "name": "python3"
  },
  "language_info": {
   "codemirror_mode": {
    "name": "ipython",
    "version": 3
   },
   "file_extension": ".py",
   "mimetype": "text/x-python",
   "name": "python",
   "nbconvert_exporter": "python",
   "pygments_lexer": "ipython3",
   "version": "3.12.2"
  }
 },
 "nbformat": 4,
 "nbformat_minor": 5
}
