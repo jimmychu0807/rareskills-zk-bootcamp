{
 "cells": [
  {
   "cell_type": "markdown",
   "id": "2fda7503",
   "metadata": {},
   "source": [
    "# RareSkills Zero Knowledge Week 2\n",
    "\n",
    "## Modular arithmetic essentials\n",
    "### Benchmarks\n",
    "Here is how you do modular arithmetic in python. Run the two cells below and note how different their execution times are. You should use `pow` instead of doing modular arithmetic with the elementary operators."
   ]
  },
  {
   "cell_type": "code",
   "execution_count": 1,
   "id": "6462ce3c",
   "metadata": {},
   "outputs": [
    {
     "name": "stdout",
     "output_type": "stream",
     "text": [
      "calculating 1590868 took 6.25 seconds\n"
     ]
    }
   ],
   "source": [
    "import time\n",
    "\n",
    "s = time.time()\n",
    "ans = 1002583 ** 939001 % 2003951\n",
    "t = time.time()\n",
    "\n",
    "print(\"calculating {} took {:.2f} seconds\".format(ans, t - s))"
   ]
  },
  {
   "cell_type": "code",
   "execution_count": 2,
   "id": "4d6986d8",
   "metadata": {},
   "outputs": [
    {
     "name": "stdout",
     "output_type": "stream",
     "text": [
      "calculating 1590868 operation took 0.00 seconds\n"
     ]
    }
   ],
   "source": [
    "s = time.time()\n",
    "ans = pow(1002583,939001,2003951)\n",
    "t = time.time()\n",
    "\n",
    "print(\"calculating {} operation took {:.2f} seconds\".format(ans, t - s))"
   ]
  },
  {
   "cell_type": "markdown",
   "id": "78efe55b",
   "metadata": {},
   "source": [
    "### Encrypting a number\n",
    "\n",
    "If we start with a generator `g` and raise it to a power `s` mod `n`, then in general we cannot determine `s` even if `g` and `n` are known. This is the discrete logarithm problem.\n",
    "\n",
    "We can say we \"encrypt\" `s` using the scheme\n",
    "\n",
    "$$ E(s) = g^{s} \\pmod n $$\n",
    "\n",
    "But this means we need to choose `g` and `n` carefully. If `g` is 3, `s` is 2, and `n` is a large number, we can intelligently guess what `s` is in this case. We want to pick `g` and `n` such that all members \"wrap around.\" We won't concern ourselves with this here, but you should be aware of it. The other issue is not picking a sufficiently large `n`. "
   ]
  },
  {
   "cell_type": "markdown",
   "id": "583b81c1",
   "metadata": {},
   "source": [
    "### Computing the discrete logarithm\n",
    "If we do `s_p = g^s mod n`, and make `g` and `n` public, then it is infeasible to compute `s`. But this is only true if `n` is sufficiently large.\n",
    "\n",
    "In the following example, we provide `s_p`, `g`, and `n`. Use python to bruteforce the solution to find `s`."
   ]
  },
  {
   "cell_type": "markdown",
   "id": "bc033ace",
   "metadata": {},
   "source": [
    "$$g^{ac} = (g^{a})^{c} \\pmod p$$"
   ]
  },
  {
   "cell_type": "code",
   "execution_count": 3,
   "id": "cb7eb435",
   "metadata": {},
   "outputs": [],
   "source": [
    "n = 9551\n",
    "g = 5\n",
    "encrypted_number = 5666"
   ]
  },
  {
   "cell_type": "markdown",
   "id": "5dfd12b4",
   "metadata": {},
   "source": [
    "<font color='red'>**Assignment 1: Use python to bruteforce the solution to find `s`**</font>"
   ]
  },
  {
   "cell_type": "code",
   "execution_count": 5,
   "id": "d397aa7e",
   "metadata": {},
   "outputs": [
    {
     "name": "stdout",
     "output_type": "stream",
     "text": [
      "2531\n"
     ]
    }
   ],
   "source": [
    "# Your Solution and Answer Here\n",
    "def calc_pow(g, n, v):\n",
    "    for s in range(n):\n",
    "        if pow(g, s, n) == v:\n",
    "            return s\n",
    "    return None\n",
    "\n",
    "student_solution = calc_pow(g, n, encrypted_number); print(student_solution)"
   ]
  },
  {
   "cell_type": "code",
   "execution_count": 6,
   "id": "8fb84b98",
   "metadata": {},
   "outputs": [
    {
     "name": "stdout",
     "output_type": "stream",
     "text": [
      "student_solution is 2531\n"
     ]
    }
   ],
   "source": [
    "assert pow(g, student_solution, n) == encrypted_number\n",
    "print(\"student_solution is {}\".format(student_solution))"
   ]
  },
  {
   "cell_type": "markdown",
   "id": "adef384e",
   "metadata": {},
   "source": [
    "### Computing the discrete logarithm the smart way\n",
    "The smart way to do optimal algorithms is to [copy and paste from stackoverflow](https://stackoverflow.com/a/58665206/2079806). You do not have to understand how the library works\n",
    "\n",
    "<font color='red'>**Assignment 2: Break the cryptography below and obtain the secret number**</font>"
   ]
  },
  {
   "cell_type": "code",
   "execution_count": 7,
   "id": "d15cb7d8",
   "metadata": {},
   "outputs": [],
   "source": [
    "n = 1000004119\n",
    "g = 5\n",
    "encrypted_number = 767805982"
   ]
  },
  {
   "cell_type": "code",
   "execution_count": 10,
   "id": "62cdb28d",
   "metadata": {},
   "outputs": [
    {
     "data": {
      "text/plain": [
       "420"
      ]
     },
     "execution_count": 10,
     "metadata": {},
     "output_type": "execute_result"
    }
   ],
   "source": [
    "# Your Solution and Answer Here\n",
    "from sympy.ntheory import discrete_log\n",
    "student_solution = discrete_log(n, encrypted_number, g)\n",
    "student_solution"
   ]
  },
  {
   "cell_type": "code",
   "execution_count": 11,
   "id": "b042bddd",
   "metadata": {},
   "outputs": [
    {
     "name": "stdout",
     "output_type": "stream",
     "text": [
      "student_solution is 420\n"
     ]
    }
   ],
   "source": [
    "assert pow(g, student_solution, n) == encrypted_number\n",
    "print(\"student_solution is {}\".format(student_solution))"
   ]
  },
  {
   "cell_type": "markdown",
   "id": "f6211e5b",
   "metadata": {},
   "source": [
    "## How Zero Knowledge Addition Works\n",
    "\n",
    "A Zero Knowledge Proof verifies a computation is true without revealing a the inputs to the computation.\n",
    "\n",
    "That is, if a + b = c, then we want a \"trapdoor function\" E(x) such that E(a)■E(b) = E(c) where ■ is the binary operator of the group E(x) is an element of.\n",
    "\n",
    "So to prove a + b = c without revealing a, b, or c, we apply A = E(a), B = E(b), C = E(c) and give (A, B, C) to a verifier.\n",
    "\n",
    "The verifier will then check A ■ B == C.\n",
    "\n",
    "Although they don't know the values A, B, and C \"came from\", they do know the unencrypted values form a valid sum."
   ]
  },
  {
   "cell_type": "markdown",
   "id": "89ac98bb",
   "metadata": {},
   "source": [
    "## Zero Knowledge Addition\n",
    "The following property is very important. It lets us verify the addition of numbers (integers under addition) using another group: $g^x \\pmod p$ under multiplication. Because of the discrete logarithm, we cannot easily go from $g^x \\pmod p$ to recover x.\n",
    "\n",
    "a + b = c is homomorphic to $g^ag^b = g^c \\pmod p$.\n",
    "\n",
    "$$ g^{a}g^{b} = g^{a + b} \\pmod n $$\n",
    "\n",
    "Try a few different values of `a` and `b` yourself to see it in action"
   ]
  },
  {
   "cell_type": "code",
   "execution_count": 15,
   "id": "f8869242",
   "metadata": {},
   "outputs": [
    {
     "name": "stdout",
     "output_type": "stream",
     "text": [
      "False\n"
     ]
    }
   ],
   "source": [
    "import math\n",
    "n = 1000004119\n",
    "g = 5\n",
    "a = math.floor(n/3 - 1)\n",
    "b = n - 5\n",
    "print(pow(g, a, n) * pow(g, b, n) == pow(g, a + b, n))"
   ]
  },
  {
   "cell_type": "markdown",
   "id": "0545ba6d",
   "metadata": {},
   "source": [
    "Wait what?! That's supposed to be true?\n",
    "\n",
    "<font color='red'>**Assignment 3: The code above has a bug. What is the bug?**</font>"
   ]
  },
  {
   "cell_type": "code",
   "execution_count": 16,
   "id": "bbacb1ae",
   "metadata": {},
   "outputs": [
    {
     "name": "stdout",
     "output_type": "stream",
     "text": [
      "True\n"
     ]
    }
   ],
   "source": [
    "# Your corrected code here\n",
    "print((pow(g, a, n) * pow(g, b, n)) % n == pow(g, a + b, n))"
   ]
  },
  {
   "cell_type": "markdown",
   "id": "3063b383",
   "metadata": {},
   "source": [
    "## Zero Knowledge Subtraction\n",
    "We can also encrypt the operation a - b. This is the same as \n",
    "\n",
    "$$ g^{a}g^{-b} = g^{a-b} $$\n",
    "\n",
    "But we can't just stick a negative sign in front of the exponent"
   ]
  },
  {
   "cell_type": "code",
   "execution_count": 17,
   "id": "10c8172d",
   "metadata": {},
   "outputs": [
    {
     "data": {
      "text/plain": [
       "1.6619797259514097e-09"
      ]
     },
     "execution_count": 17,
     "metadata": {},
     "output_type": "execute_result"
    }
   ],
   "source": [
    "g = 57\n",
    "n = 101\n",
    "g ** -5 % n"
   ]
  },
  {
   "cell_type": "markdown",
   "id": "80d0eb92",
   "metadata": {},
   "source": [
    "The above is not an integer! However, python is smart enough to know what you are doing if you use `pow`. To test this, we expect\n",
    "\n",
    "$$ g^{-a}g^{a} = 1 $$\n",
    "\n",
    "because g^0 is 1, and `a - a = 0`."
   ]
  },
  {
   "cell_type": "code",
   "execution_count": 18,
   "id": "dde06b67",
   "metadata": {},
   "outputs": [
    {
     "data": {
      "text/plain": [
       "True"
      ]
     },
     "execution_count": 18,
     "metadata": {},
     "output_type": "execute_result"
    }
   ],
   "source": [
    "a = 22\n",
    "pow(g, a, n) * pow(g, -a, n) % n == 1"
   ]
  },
  {
   "cell_type": "markdown",
   "id": "eba6db1a",
   "metadata": {},
   "source": [
    "So what magic is happening behind the scenes? The formula below is used to compute the modular inverse.\n",
    "\n",
    "$$ a^{-1} = a^{n - 2} \\pmod n $$"
   ]
  },
  {
   "cell_type": "code",
   "execution_count": 19,
   "id": "2ea5a6ba",
   "metadata": {},
   "outputs": [
    {
     "data": {
      "text/plain": [
       "True"
      ]
     },
     "execution_count": 19,
     "metadata": {},
     "output_type": "execute_result"
    }
   ],
   "source": [
    "a_inv = a ** (n - 2) % n\n",
    "a_inv * a % n == 1"
   ]
  },
  {
   "cell_type": "markdown",
   "id": "deadcf09",
   "metadata": {},
   "source": [
    "## Multiplication by a constant\n",
    "Multiplication by a constant is really just repeated addition\n",
    "\n",
    "$$ (g^{a})^{4} = g^{a} g^{a} g^{a} g^{a} $$\n",
    "\n",
    "This allows us to \"multiply by a constant\" in a zero knowledge fashion."
   ]
  },
  {
   "cell_type": "code",
   "execution_count": 20,
   "id": "21390185",
   "metadata": {},
   "outputs": [
    {
     "data": {
      "text/plain": [
       "True"
      ]
     },
     "execution_count": 20,
     "metadata": {},
     "output_type": "execute_result"
    }
   ],
   "source": [
    "a = 15\n",
    "pow(g, a, n) * pow(g, a, n) * pow(g, a, n) * pow(g, a, n) % n == pow(g, a * 4, n)"
   ]
  },
  {
   "cell_type": "markdown",
   "id": "d8854703",
   "metadata": {},
   "source": [
    "Of course, it would be annoying to multiply like that if you have a big coefficient, so the following is better"
   ]
  },
  {
   "cell_type": "code",
   "execution_count": 21,
   "id": "9704397d",
   "metadata": {},
   "outputs": [
    {
     "data": {
      "text/plain": [
       "True"
      ]
     },
     "execution_count": 21,
     "metadata": {},
     "output_type": "execute_result"
    }
   ],
   "source": [
    "pow(pow(g, a, n), 4 , n) == pow(g, a * 4, n)"
   ]
  },
  {
   "cell_type": "markdown",
   "id": "37dd20e6",
   "metadata": {},
   "source": [
    "## I know the solution to a systems of equations\n",
    "\n",
    "Now you should be able to prove to me that you know the solution to in a zero knowledge fashion\n",
    "\n",
    "$$\n",
    "2x + 8y = 7944\\\\\n",
    "5x + 3y = 4764\n",
    "$$\n",
    "\n",
    "<font color='red'>**Assignment 4: conver the above equation to a zk proof system where you can prove to a verifier (with an agreed upon g and n) that you know the solution to an agreed upon system of equation, without revealing the solution**</font>"
   ]
  },
  {
   "cell_type": "markdown",
   "id": "67b326c4-0d16-49f6-ac87-8f9639d499b6",
   "metadata": {},
   "source": [
    "```python\n",
    "g = 57\n",
    "n = 1000004119\n",
    "```\n",
    "\n",
    "The system of equations I give to verifier is:\n",
    "\n",
    "$$ (g^{x})^{2}(g^{y})^{8} = g^{4764}\\ mod\\ n $$\n",
    "\n",
    "$$ (g^{x})^{79445}(g^{y})^{3} = g^{4764}\\ mod\\ n $$\n",
    "\n",
    "Instead of giving $x$ and $y$ to the verifier, I will pass $g^{x}$ and $g^{y}$ to him saying these values will satisfy the above equations."
   ]
  },
  {
   "cell_type": "code",
   "execution_count": 56,
   "id": "c05aec20-8ffd-492c-a1f1-6cd7c5ecbe51",
   "metadata": {},
   "outputs": [
    {
     "name": "stdout",
     "output_type": "stream",
     "text": [
      "secret x: 261099267, secret y: 684728868\n",
      "g_x: 32248980, g_y: 331957607\n",
      "lhs: 850956665\n",
      "rhs: 366446438\n"
     ]
    },
    {
     "ename": "AssertionError",
     "evalue": "",
     "output_type": "error",
     "traceback": [
      "\u001b[0;31m---------------------------------------------------------------------------\u001b[0m",
      "\u001b[0;31mAssertionError\u001b[0m                            Traceback (most recent call last)",
      "Cell \u001b[0;32mIn[56], line 25\u001b[0m\n\u001b[1;32m     23\u001b[0m lhs \u001b[38;5;241m=\u001b[39m np\u001b[38;5;241m.\u001b[39mpower(g_x, \u001b[38;5;241m2\u001b[39m) \u001b[38;5;241m*\u001b[39m np\u001b[38;5;241m.\u001b[39mpower(g_y, \u001b[38;5;241m8\u001b[39m); \u001b[38;5;28mprint\u001b[39m(\u001b[38;5;124mf\u001b[39m\u001b[38;5;124m\"\u001b[39m\u001b[38;5;124mlhs: \u001b[39m\u001b[38;5;132;01m{\u001b[39;00mlhs\u001b[38;5;132;01m}\u001b[39;00m\u001b[38;5;124m\"\u001b[39m)\n\u001b[1;32m     24\u001b[0m rhs \u001b[38;5;241m=\u001b[39m np\u001b[38;5;241m.\u001b[39mpower(GF(g), \u001b[38;5;241m4764\u001b[39m); \u001b[38;5;28mprint\u001b[39m(\u001b[38;5;124mf\u001b[39m\u001b[38;5;124m\"\u001b[39m\u001b[38;5;124mrhs: \u001b[39m\u001b[38;5;132;01m{\u001b[39;00mrhs\u001b[38;5;132;01m}\u001b[39;00m\u001b[38;5;124m\"\u001b[39m)\n\u001b[0;32m---> 25\u001b[0m \u001b[38;5;28;01massert\u001b[39;00m lhs \u001b[38;5;241m==\u001b[39m rhs\n",
      "\u001b[0;31mAssertionError\u001b[0m: "
     ]
    }
   ],
   "source": [
    "g = 57\n",
    "n = 1000004119\n",
    "\n",
    "import numpy as np\n",
    "import galois\n",
    "GF = galois.GF(n)\n",
    "A = GF([[2, 8], [79445, 3]])\n",
    "b = GF([4764, 4764])\n",
    "[x, y] = np.linalg.solve(A, b)\n",
    "print(f\"secret x: {x}, secret y: {y}\")\n",
    "\n",
    "# verify\n",
    "assert GF(2) * x + GF(8) * y == GF(4764)\n",
    "assert GF(79445) * x + GF(3) * y == GF(4764)\n",
    "\n",
    "# Instead of passing x and y to the verifier, I will pass g_x and g_y\n",
    "g_x = np.power(GF(g), int(x))\n",
    "g_y = np.power(GF(g), int(y))\n",
    "assert g_x == pow(g, int(x), n)\n",
    "print(f\"g_x: {g_x}, g_y: {g_y}\")\n",
    "\n",
    "# verifier verifies the 1st equation\n",
    "lhs = np.power(g_x, 2) * np.power(g_y, 8); print(f\"lhs: {lhs}\")\n",
    "rhs = np.power(GF(g), 4764); print(f\"rhs: {rhs}\")\n",
    "assert lhs == rhs"
   ]
  },
  {
   "cell_type": "markdown",
   "id": "0c7a9d38",
   "metadata": {},
   "source": [
    "## Convert a rational number to a finite field element\n",
    "\n",
    "<font color='red'>**Assignment 5: Compute 53/192 + 61/511 (mod 1033) in python. Show your work. You are not required to implement euclid's algorithm. Show it is equal to the original rational number sum: https://www.wolframalpha.com/input?i=53%2F192+%2B+61%2F511**</font>"
   ]
  },
  {
   "cell_type": "code",
   "execution_count": 57,
   "id": "b9567643",
   "metadata": {},
   "outputs": [
    {
     "name": "stdout",
     "output_type": "stream",
     "text": [
      "l1: 619\n",
      "l2: 928\n",
      "514\n",
      "num: 38795\n",
      "denom: 98112\n"
     ]
    }
   ],
   "source": [
    "p = 1033\n",
    "l1 = (53 * pow(192, -1, p)) % p; print(f\"l1: {l1}\")\n",
    "l2 = (61 * pow(511, -1, p)) % p; print(f\"l2: {l2}\")\n",
    "res = (l1 + l2) % p; print(res)\n",
    "\n",
    "# 53/192 + 61/511\n",
    "num = (53 * 511 + 61 * 192); print(f\"num: {num}\")\n",
    "denom = (192 * 511); print(f\"denom: {denom}\")\n",
    "assert (num * pow(denom, -1, p)) % p == res"
   ]
  }
 ],
 "metadata": {
  "kernelspec": {
   "display_name": "Python 3 (ipykernel)",
   "language": "python",
   "name": "python3"
  },
  "language_info": {
   "codemirror_mode": {
    "name": "ipython",
    "version": 3
   },
   "file_extension": ".py",
   "mimetype": "text/x-python",
   "name": "python",
   "nbconvert_exporter": "python",
   "pygments_lexer": "ipython3",
   "version": "3.12.2"
  }
 },
 "nbformat": 4,
 "nbformat_minor": 5
}
