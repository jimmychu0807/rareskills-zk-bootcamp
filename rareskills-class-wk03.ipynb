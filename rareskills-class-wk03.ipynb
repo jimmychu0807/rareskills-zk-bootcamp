{
 "cells": [
  {
   "cell_type": "markdown",
   "id": "b2361233-6a41-4749-b19b-f46d2f0872dd",
   "metadata": {},
   "source": [
    "src: <https://almondine-song-c43.notion.site/Homework-3-ec8534279e2045479353509d5c3c73a1>\n",
    "\n",
    "Use this resource as a reference: https://cryptobook.nakov.com/digital-signatures/ecdsa-sign-verify-messages\n",
    "\n",
    "The following may also be helpful:\n",
    "- https://www.rareskills.io/post/finite-fields\n",
    "- https://www.rareskills.io/post/elliptic-curve-addition\n",
    "- https://www.rareskills.io/post/elliptic-curves-finite-fields\n",
    "\n",
    "Implement ECDSA from scratch. You want to use the secp256k1 curve. See here for a reference library:  \n",
    "<https://www.rareskills.io/post/generate-ethereum-address-from-private-key-python>\n",
    "\n",
    "1. pick a private key\n",
    "2. generate the public key using that private key (not the eth address, the public key)\n",
    "3. pick a message **m** and hash it to produce **h** (h can be though of as a 256 bit number)\n",
    "4. sign **m** using your private key and a randomly chosen nonce k. produce (r, s, h, PubKey)\n",
    "5. verify (r, s, h, PubKey) is valid\n",
    "\n",
    "You may use a library for point multiplication, but everything else you must do from scratch.\n",
    "\n",
    "Pay close attention to the distinction between the curve order and the prime number $p$ we compute the modulus of $y^2=x^3+b \\pmod p$."
   ]
  },
  {
   "cell_type": "code",
   "execution_count": null,
   "id": "f6faaec8-3c00-466c-a5cb-ff9e43a4c2d2",
   "metadata": {},
   "outputs": [],
   "source": [
    "from ecpy.curves import Curve\n",
    "from ecpy.keys import ECPublicKey, ECPrivateKey\n",
    "from sha3 import keccak_256\n",
    "\n",
    "sk = 0xac0974bec39a17e36ba4a6b4d238ff944bacb478cbed5efcae784d7bf4f2ff80\n",
    "cv = Curve.get_curve('secp256k1')\n",
    "pv_key = ECPrivateKey(sk, cv); print(f\"pv_key: {pv_key}\")\n",
    "pk = pv_key.get_public_key(); print(f\"pk: {pk}\")\n",
    "self_calc_pk = sk * cv.generator; print(f\"self_calc_pk: {self_calc_pk}\")\n",
    "\n",
    "x_part = pk.W.x.to_bytes(32, byteorder='big'); print(f\"x_part: {list(x_part)}\")\n",
    "y_part = pk.W.y.to_bytes(32, byteorder='big'); print(f\"y_part: {list(y_part)}\")\n",
    "concat_x_y = x_part + y_part; print(f\"concat: {concat_x_y}\")\n",
    "eth_addr = '0x' + keccak_256(concat_x_y).digest()[-20:].hex(); print(f\"eth addr: {eth_addr}\")"
   ]
  },
  {
   "cell_type": "code",
   "execution_count": 66,
   "id": "2b8fa40c-32ad-4981-bc81-d11d85fa6ecf",
   "metadata": {},
   "outputs": [
    {
     "name": "stdout",
     "output_type": "stream",
     "text": [
      "(0x79be667ef9dcbbac55a06295ce870b07029bfcdb2dce28d959f2815b16f81798 , 0x483ada7726a3c4655da4fbfc0e1108a8fd17b448a68554199c47d08ffb10d4b8)\n",
      "None\n",
      "field: 115792089237316195423570985008687907853269984665640564039457584007908834671663\n",
      "r: 42771490518450319897233183196899466804635860403565485915020061503861363938677\n"
     ]
    },
    {
     "ename": "TypeError",
     "evalue": "int() argument must be a string, a bytes-like object or a real number, not '_pysha3.keccak_256'",
     "output_type": "error",
     "traceback": [
      "\u001b[0;31m---------------------------------------------------------------------------\u001b[0m",
      "\u001b[0;31mTypeError\u001b[0m                                 Traceback (most recent call last)",
      "Cell \u001b[0;32mIn[66], line 48\u001b[0m\n\u001b[1;32m     44\u001b[0m     \u001b[38;5;28mprint\u001b[39m(Ecdsa\u001b[38;5;241m.\u001b[39mdebug())\n\u001b[1;32m     45\u001b[0m     \u001b[38;5;28mprint\u001b[39m(ecdsa\u001b[38;5;241m.\u001b[39msign(\u001b[38;5;124m\"\u001b[39m\u001b[38;5;124mabcdef\u001b[39m\u001b[38;5;124m\"\u001b[39m))\n\u001b[0;32m---> 48\u001b[0m main()\n",
      "Cell \u001b[0;32mIn[66], line 45\u001b[0m, in \u001b[0;36mmain\u001b[0;34m()\u001b[0m\n\u001b[1;32m     43\u001b[0m ecdsa \u001b[38;5;241m=\u001b[39m Ecdsa(sk)\n\u001b[1;32m     44\u001b[0m \u001b[38;5;28mprint\u001b[39m(Ecdsa\u001b[38;5;241m.\u001b[39mdebug())\n\u001b[0;32m---> 45\u001b[0m \u001b[38;5;28mprint\u001b[39m(ecdsa\u001b[38;5;241m.\u001b[39msign(\u001b[38;5;124m\"\u001b[39m\u001b[38;5;124mabcdef\u001b[39m\u001b[38;5;124m\"\u001b[39m))\n",
      "Cell \u001b[0;32mIn[66], line 26\u001b[0m, in \u001b[0;36mEcdsa.sign\u001b[0;34m(self, message)\u001b[0m\n\u001b[1;32m     24\u001b[0m R \u001b[38;5;241m=\u001b[39m k \u001b[38;5;241m*\u001b[39m cv\u001b[38;5;241m.\u001b[39mgenerator\n\u001b[1;32m     25\u001b[0m r \u001b[38;5;241m=\u001b[39m R\u001b[38;5;241m.\u001b[39mx; \u001b[38;5;28mprint\u001b[39m(\u001b[38;5;124mf\u001b[39m\u001b[38;5;124m\"\u001b[39m\u001b[38;5;124mr: \u001b[39m\u001b[38;5;132;01m{\u001b[39;00mr\u001b[38;5;132;01m}\u001b[39;00m\u001b[38;5;124m\"\u001b[39m)\n\u001b[0;32m---> 26\u001b[0m s \u001b[38;5;241m=\u001b[39m \u001b[38;5;28mpow\u001b[39m(k, \u001b[38;5;241m-\u001b[39m\u001b[38;5;241m1\u001b[39m, cv\u001b[38;5;241m.\u001b[39mfield) \u001b[38;5;241m*\u001b[39m (\u001b[38;5;28mint\u001b[39m(hsh) \u001b[38;5;241m+\u001b[39m \u001b[38;5;28mint\u001b[39m(r) \u001b[38;5;241m*\u001b[39m \u001b[38;5;28mself\u001b[39m\u001b[38;5;241m.\u001b[39msk) \u001b[38;5;241m%\u001b[39m cv\u001b[38;5;241m.\u001b[39mfield\n",
      "\u001b[0;31mTypeError\u001b[0m: int() argument must be a string, a bytes-like object or a real number, not '_pysha3.keccak_256'"
     ]
    }
   ],
   "source": [
    "from ecpy.curves import Curve\n",
    "from sha3 import keccak_256\n",
    "import secrets\n",
    "\n",
    "# https://cryptobook.nakov.com/digital-signatures/ecdsa-sign-verify-messages\n",
    "\n",
    "class Ecdsa:\n",
    "    cv = Curve.get_curve(\"secp256k1\")\n",
    "    \n",
    "    def __init__(self, sk=None):\n",
    "        if sk == None:\n",
    "            sk = secrets.randbelow(2**256)\n",
    "        self.sk = sk\n",
    "\n",
    "    def public_key(self):\n",
    "        if hasattr(self, \"pk\") and self.pk != None:\n",
    "            return self.pk\n",
    "        self.pk = self.sk * cv.generator\n",
    "        return self.pk\n",
    "\n",
    "    def sign(self, message):\n",
    "        hsh = keccak_256(str.encode(message))\n",
    "        k = secrets.randbelow(cv.field); print(f\"field: {cv.field}\")\n",
    "        R = k * cv.generator\n",
    "        r = R.x; print(f\"r: {r}\")\n",
    "        s = pow(k, -1, cv.field) * (hsh + r * self.sk) % cv.field\n",
    "        # return (r, s)\n",
    "\n",
    "    @classmethod\n",
    "    def verify(cls):\n",
    "        pass\n",
    "\n",
    "    @classmethod\n",
    "    def debug(cls):\n",
    "        print(cls.cv.generator)\n",
    "\n",
    "    # Can you verify the secp256k1 curve order and generator point in terms of number\n",
    "    # Now, how do you enforce type in Python? For example, what is being passed in keccak_256()?\n",
    "\n",
    "def main():\n",
    "    sk = 43765866871480949447442477281291151637608214855806437531566966568646888625943\n",
    "    # sk = None\n",
    "    ecdsa = Ecdsa(sk)\n",
    "    print(Ecdsa.debug())\n",
    "    print(ecdsa.sign(\"abcdef\"))\n",
    "\n",
    "\n",
    "main()"
   ]
  }
 ],
 "metadata": {
  "kernelspec": {
   "display_name": "Python 3 (ipykernel)",
   "language": "python",
   "name": "python3"
  },
  "language_info": {
   "codemirror_mode": {
    "name": "ipython",
    "version": 3
   },
   "file_extension": ".py",
   "mimetype": "text/x-python",
   "name": "python",
   "nbconvert_exporter": "python",
   "pygments_lexer": "ipython3",
   "version": "3.12.2"
  }
 },
 "nbformat": 4,
 "nbformat_minor": 5
}
