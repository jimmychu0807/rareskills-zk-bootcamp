{
 "cells": [
  {
   "cell_type": "markdown",
   "id": "b2361233-6a41-4749-b19b-f46d2f0872dd",
   "metadata": {},
   "source": [
    "src: <https://almondine-song-c43.notion.site/Homework-3-ec8534279e2045479353509d5c3c73a1>\n",
    "\n",
    "Use this resource as a reference: https://cryptobook.nakov.com/digital-signatures/ecdsa-sign-verify-messages\n",
    "\n",
    "The following may also be helpful:\n",
    "- https://www.rareskills.io/post/finite-fields\n",
    "- https://www.rareskills.io/post/elliptic-curve-addition\n",
    "- https://www.rareskills.io/post/elliptic-curves-finite-fields\n",
    "\n",
    "Implement ECDSA from scratch. You want to use the secp256k1 curve. See here for a reference library: https://www.rareskills.io/post/generate-ethereum-address-from-private-key-python\n",
    "\n",
    "1) pick a private key\n",
    "\n",
    "2) generate the public key using that private key (not the eth address, the public key)\n",
    "\n",
    "3) pick message m and hash it to produce h (h can be though of as a 256 bit number)\n",
    "\n",
    "4) sign m using your private key and a randomly chosen nonce k. produce (r, s, h, PubKey)\n",
    "\n",
    "5) verify (r, s, h, PubKey) is valid\n",
    "\n",
    "You may use a library for point multiplication, but everything else you must do from scratch.\n",
    "\n",
    "Pay close attention to the distinction between the curve order and the prime number $p$ we compute the modulus of $y^2=x^3+b \\pmod p$."
   ]
  }
 ],
 "metadata": {
  "kernelspec": {
   "display_name": "Python 3 (ipykernel)",
   "language": "python",
   "name": "python3"
  },
  "language_info": {
   "codemirror_mode": {
    "name": "ipython",
    "version": 3
   },
   "file_extension": ".py",
   "mimetype": "text/x-python",
   "name": "python",
   "nbconvert_exporter": "python",
   "pygments_lexer": "ipython3",
   "version": "3.12.2"
  }
 },
 "nbformat": 4,
 "nbformat_minor": 5
}
