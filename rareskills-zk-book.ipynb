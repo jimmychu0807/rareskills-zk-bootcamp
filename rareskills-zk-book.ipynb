{
 "cells": [
  {
   "cell_type": "markdown",
   "id": "0fcec896-f666-4be2-87f9-217c47d2cb53",
   "metadata": {},
   "source": [
    "# Ch2 - Arithmetic Circuit"
   ]
  },
  {
   "cell_type": "code",
   "execution_count": null,
   "id": "4d717516-6d9c-4a98-95df-c10ec1442b2c",
   "metadata": {},
   "outputs": [],
   "source": [
    "print(bin(3))\n",
    "print(bin(9))"
   ]
  },
  {
   "cell_type": "markdown",
   "id": "dd9ec633-2671-4025-97fc-4893a9ec9383",
   "metadata": {},
   "source": [
    "## Practice Problems"
   ]
  },
  {
   "cell_type": "markdown",
   "id": "4e5572d3-6fa8-4e31-a972-43ecb8aa12d1",
   "metadata": {},
   "source": [
    "1. Create an arithmetic circuit that takes signals x₁, x₂, ..., xₙ and is satisfied if at least one signal is 0.\n",
    "\n",
    "   `x1 * x2 * x3 * x4 ... * xn === 0`"
   ]
  },
  {
   "cell_type": "markdown",
   "id": "fb6e79a6-3625-4c26-8d34-744732443dfb",
   "metadata": {},
   "source": [
    "2. Create an arithmetic circuit that takes signals x₁, x₂, ..., xₙ and is satsified if all are 1.\n",
    "\n",
    "   `(x1 - 1) * (x2 - 1) * (x3 - 1)... * (xn - 1) === 0`"
   ]
  },
  {
   "cell_type": "markdown",
   "id": "f31bfff6-826d-4ef8-9c6b-577b9307caf3",
   "metadata": {},
   "source": [
    "3. Assume on Australia, there is a 2-coloring scheme\n",
    "\n",
    "   Recall that Australia has six territories:\n",
    "\n",
    "   ![Australia map](https://static.wixstatic.com/media/706568_b649d43396ef43cd954f4beb61dc1bc6~mv2.jpg/v1/fill/w_315,h_284,al_c,q_80,usm_0.66_1.00_0.01,enc_auto/706568_b649d43396ef43cd954f4beb61dc1bc6~mv2.jpg)\n",
    "\n",
    "   **WA** = West Australia  \n",
    "   **SA** = South Australia  \n",
    "   **NT** = Northern Territory  \n",
    "   **Q** = Queensland  \n",
    "   **NSW** = New South Wales  \n",
    "   **V** = Victoria  \n",
    "\n",
    "   Let 0 be one color, and 1 be another color.\n",
    "\n",
    "   ```\n",
    "   # Color constraints\n",
    "   WA * (WA - 1) === 0\n",
    "   SA * (SA - 1) === 0\n",
    "   NT * (Q - 1) === 0\n",
    "   ...\n",
    "\n",
    "   # Neighborhood constraints\n",
    "   WA * NT === 0\n",
    "   WA * SA === 0\n",
    "   NT * SA === 0\n",
    "   NT * Q === 0\n",
    "   SA * NSW === 0\n",
    "   SA * V === 0\n",
    "   Q * NSW === 0\n",
    "   NSW * V === 0\n",
    "   ```"
   ]
  },
  {
   "cell_type": "markdown",
   "id": "38498336-950f-443a-a2d5-24e45c3fc2a3",
   "metadata": {},
   "source": [
    "4. Devise an arithmetic circuit that constrains k to be the maximum of x, y, or z. That is, k should be equal to x if x is the maximum value, and same for y and z.\n",
    "\n",
    "   ```\n",
    "   # OR the following conditions tgt\n",
    "   # (k - x) === 0 if x is max(x, y, z)\n",
    "   # (k - y) === 0 if y is max(x, y, z)\n",
    "   # (k - z) === 0 if z is max(x, y, z)\n",
    "   \n",
    "   # x is max(x, y, z) === x - y >= 0 && y - z >= 0\n",
    "   ```"
   ]
  },
  {
   "cell_type": "markdown",
   "id": "79c94b04-6652-4b85-9faf-eb67ebeb716a",
   "metadata": {},
   "source": [
    "# Ch3 - Finite Fields & Modular Arithmetic"
   ]
  },
  {
   "cell_type": "code",
   "execution_count": null,
   "id": "4e08d41f-fe60-4e4c-925c-8d91495088f8",
   "metadata": {},
   "outputs": [],
   "source": [
    "p = 11\n",
    "q = pow(3, -1, p); print(q)"
   ]
  },
  {
   "cell_type": "code",
   "execution_count": null,
   "id": "c8671e80-eb57-46fe-8172-42da631a1680",
   "metadata": {},
   "outputs": [],
   "source": [
    "import galois\n",
    "import numpy as np\n",
    "GF7 = galois.GF(7)\n",
    "\n",
    "one_half = GF7(1) / GF7(2); print(one_half)\n",
    "negative_two = -GF7(2); print(negative_two)\n",
    "\n",
    "GF11 = galois.GF(11)\n",
    "sqrt = np.sqrt(GF11(5)); print(sqrt)\n",
    "\n",
    "p = 21888242871839275222246405745257275088548364400416034343698204186575808495617\n",
    "GF = galois.GF(p)\n",
    "\n",
    "poly = galois.Poly([1, 2, -8], GF)\n",
    "roots = poly.roots(); print(f\"roots: {roots}\")"
   ]
  },
  {
   "cell_type": "markdown",
   "id": "f8a3800b-f73d-4ff0-9124-8152f08d4553",
   "metadata": {},
   "source": [
    "# Ch7 - Elliptic Curve Point Addition"
   ]
  },
  {
   "cell_type": "markdown",
   "id": "99408870-9e46-4527-807d-f1577adbcb4e",
   "metadata": {},
   "source": [
    "Also check the wiki:  \n",
    "<https://en.wikipedia.org/wiki/Elliptic_curve_point_multiplication>"
   ]
  },
  {
   "cell_type": "code",
   "execution_count": null,
   "id": "b4a304d8-e17f-4387-bd3d-27637da95afb",
   "metadata": {},
   "outputs": [],
   "source": [
    "## Plotting elliptic curve\n",
    "\n",
    "import numpy as np\n",
    "import matplotlib.pyplot as plt\n",
    "\n",
    "a1 = 0; b1 = 7\n",
    "a2 = -2; b2 = 1\n",
    "a3 = 0; b3 = -10\n",
    "a4 = 2; b4 = 15\n",
    "\n",
    "[y, x] = np.ogrid[-15:15:100j, -3:8:100j]\n",
    "# The formula: y^2 = x^3 + a * x + b\n",
    "plt.contour(x.ravel(), y.ravel(), pow(y, 2) - pow(x, 3) - x * a1 - b1, [0], colors=\"red\")\n",
    "plt.contour(x.ravel(), y.ravel(), pow(y, 2) - pow(x, 3) - x * a2 - b2, [0], colors=\"blue\")\n",
    "plt.contour(x.ravel(), y.ravel(), pow(y, 2) - pow(x, 3) - x * a3 - b3, [0], colors=\"green\")\n",
    "plt.contour(x.ravel(), y.ravel(), pow(y, 2) - pow(x, 3) - x * a4 - b4, [0], colors=\"orange\")\n",
    "\n",
    "plt.grid(which=\"both\", axis=\"both\", linestyle=\"--\")\n",
    "plt.show()"
   ]
  },
  {
   "cell_type": "code",
   "execution_count": null,
   "id": "8fdf00e9-8b6c-45cf-9039-bb4a4d643026",
   "metadata": {},
   "outputs": [],
   "source": [
    "'''\n",
    "Plotting elliptic curve\n",
    "y^2 = x^3 + 10\n",
    "y = 10x\n",
    "'''\n",
    "\n",
    "import numpy as np\n",
    "import matplotlib.pyplot as plt\n",
    "\n",
    "a1 = 0; b1 = 10\n",
    "\n",
    "# Flipping between the following axis to see that at first it seems y=10x grow very fast, but \n",
    "# eventually the elliptic curve will catch up on its growth. Because elliptic curve is O(x^1.5).\n",
    "\n",
    "# [y, x] = np.ogrid[-15:15:100j, -3:8:100j]\n",
    "[y, x] = np.ogrid[-2000:2000:2000j, -3:150:2000j]\n",
    "# The formula: y^2 = x^3 + a * x + b\n",
    "plt.contour(x.ravel(), y.ravel(), pow(y, 2) - pow(x, 3) - x * a1 - b1, [0], colors=\"red\")\n",
    "plt.contour(x.ravel(), y.ravel(), y - 10 * x, [0], colors=\"blue\")\n",
    "\n",
    "plt.grid(which=\"both\", axis=\"both\", linestyle=\"--\")\n",
    "plt.show()"
   ]
  },
  {
   "cell_type": "code",
   "execution_count": null,
   "id": "453b592c-1250-4926-8392-743c57df955b",
   "metadata": {},
   "outputs": [],
   "source": [
    "'''\n",
    "Plotting elliptic curve\n",
    "y^2 = x^3 + 7\n",
    "y = x + 3\n",
    "'''\n",
    "\n",
    "import numpy as np\n",
    "import matplotlib.pyplot as plt\n",
    "\n",
    "a1 = 0; b1 = 7\n",
    "\n",
    "# Flipping between the following axis to see that at first it seems y=10x grow very fast, but \n",
    "# eventually the elliptic curve will catch up on its growth. Because elliptic curve is O(x^1.5).\n",
    "\n",
    "[y, x] = np.ogrid[-15:15:100j, -3:8:100j]\n",
    "# [y, x] = np.ogrid[-2000:2000:2000j, -3:150:2000j]\n",
    "# The formula: y^2 = x^3 + a * x + b\n",
    "plt.contour(x.ravel(), y.ravel(), pow(y, 2) - pow(x, 3) - x * a1 - b1, [0], colors=\"red\")\n",
    "plt.contour(x.ravel(), y.ravel(), y - x - 3, [0], colors=\"blue\")\n",
    "\n",
    "plt.grid(which=\"both\", axis=\"both\", linestyle=\"--\")\n",
    "plt.show()"
   ]
  },
  {
   "cell_type": "markdown",
   "id": "2cc615a0-cb44-47e9-a267-fbb521b4c5b8",
   "metadata": {},
   "source": [
    "# Ch8 - Elliptic Curves over Finite Field"
   ]
  },
  {
   "cell_type": "markdown",
   "id": "88dd87ec-343a-4d0f-acb9-e856902ea63c",
   "metadata": {},
   "source": [
    "Assume the equation\n",
    "\n",
    "$y^2 = x^3 + 3\\ (mod\\ p)$"
   ]
  },
  {
   "cell_type": "code",
   "execution_count": null,
   "id": "f3b514fc-7a15-4bd9-a1aa-a70c3d36a39c",
   "metadata": {},
   "outputs": [],
   "source": [
    "# Ethereum precompile\n",
    "field_modulus = 21888242871839275222246405745257275088696311157297823662689037894645226208583\n",
    "\n",
    "from libnum import has_sqrtmod_prime_power, sqrtmod_prime_power\n",
    "\n",
    "p = 11\n",
    "print(has_sqrtmod_prime_power(8, p, 1))\n",
    "\n",
    "print(has_sqrtmod_prime_power(5, p, 1))\n",
    "\n",
    "print(list(sqrtmod_prime_power(5, p, 1)))"
   ]
  },
  {
   "cell_type": "code",
   "execution_count": null,
   "id": "9e6163d8-25a7-4539-b2f6-2fb31380517b",
   "metadata": {},
   "outputs": [],
   "source": [
    "# Plot of an elliptic curve\n",
    "from libnum import has_sqrtmod_prime_power, sqrtmod_prime_power\n",
    "import matplotlib.pyplot as plt\n",
    "\n",
    "def generate_points(mod):\n",
    "    xs = []\n",
    "    ys = []\n",
    "\n",
    "    def y_squared(x):\n",
    "        return (x**3 + 3) % mod\n",
    "\n",
    "    for x in range(0, mod):\n",
    "        if has_sqrtmod_prime_power(y_squared(x), mod, 1):\n",
    "            square_roots = sqrtmod_prime_power(y_squared(x), mod, 1)\n",
    "            for root in square_roots:\n",
    "                ys.append(root)\n",
    "                xs.append(x)\n",
    "    return xs, ys\n",
    "\n",
    "[xs, ys] = generate_points(11)\n",
    "[fig, axes] = plt.subplots(1, 1)\n",
    "fig.suptitle(\"my title here\")\n",
    "fig.set_size_inches(6, 6)\n",
    "axes.set_xticks(range(0, 11))\n",
    "axes.set_yticks(range(0, 11))\n",
    "plt.grid()\n",
    "plt.scatter(xs, ys)"
   ]
  },
  {
   "cell_type": "code",
   "execution_count": null,
   "id": "dd3ef125-73d8-443e-96ff-a45f6dbe87df",
   "metadata": {},
   "outputs": [],
   "source": [
    "from py_ecc.bn128 import G1, multiply, add, eq, neg\n",
    "\n",
    "print(G1)\n",
    "print(add(G1, G1))\n",
    "print(multiply(G1, 2))\n",
    "assert eq(add(multiply(G1, 10), multiply(G, 11)), multiply(G1, 21))"
   ]
  },
  {
   "cell_type": "code",
   "execution_count": null,
   "id": "d72ca7f4-ee97-4636-be14-8e73b5e8db4a",
   "metadata": {},
   "outputs": [],
   "source": [
    "import matplotlib.pyplot as plt\n",
    "from py_ecc.bn128 import G1, multiply, neg\n",
    "import math\n",
    "import numpy as np\n",
    "xs = []\n",
    "ys = []\n",
    "for i in range(1, 1000):\n",
    "    xs.append(i)\n",
    "    ys.append(int(multiply(G1, i)[1]))\n",
    "    xs.append(i)\n",
    "    ys.append(int(neg(multiply(G1, i))[1]))\n",
    "plt.scatter(xs, ys, marker=\".\")\n",
    "\n",
    "print(multiply(G1, 1))\n",
    "print(neg((multiply(G1, 1))))"
   ]
  },
  {
   "cell_type": "code",
   "execution_count": null,
   "id": "66de8f74-1e58-4457-8e12-5cd4357ef415",
   "metadata": {},
   "outputs": [],
   "source": [
    "from py_ecc.bn128 import curve_order, field_modulus, G1, multiply, eq\n",
    "print(f\"curve order: {curve_order}\")\n",
    "print(f\"field modulus: {field_modulus}\")\n",
    "print(f\"G1: {G1}\")\n",
    "\n",
    "x = 5\n",
    "res1 = multiply(G1, x)\n",
    "print(f\"res1: {res1}\")\n",
    "assert eq(multiply(G1, x), multiply(G1, x + curve_order))\n",
    "\n",
    "x = 2 ** 300 + 21; print(f\"x: {x}\")\n",
    "y = 3 ** 50 + 11; print(f\"y: {y}\")"
   ]
  },
  {
   "cell_type": "code",
   "execution_count": null,
   "id": "811a1290-be6e-4817-8141-63f83598d496",
   "metadata": {},
   "outputs": [],
   "source": [
    "from py_ecc.bn128 import G1, multiply, neg, is_inf, Z1, field_modulus\n",
    "\n",
    "x = 12345678\n",
    "p = multiply(G1, x); print(p)\n",
    "p_inv = neg(p); print(p_inv) # finding the inverse of the elliptic curve point\n",
    "is_inf(add(p, p_inv)) # this is to check whether it is an identity element\n",
    "\n",
    "sum1 = int(p[1]) + int(p_inv[1])\n",
    "print(sum1)\n",
    "assert sum1 == field_modulus"
   ]
  }
 ],
 "metadata": {
  "kernelspec": {
   "display_name": "Python 3 (ipykernel)",
   "language": "python",
   "name": "python3"
  },
  "language_info": {
   "codemirror_mode": {
    "name": "ipython",
    "version": 3
   },
   "file_extension": ".py",
   "mimetype": "text/x-python",
   "name": "python",
   "nbconvert_exporter": "python",
   "pygments_lexer": "ipython3",
   "version": "3.12.2"
  }
 },
 "nbformat": 4,
 "nbformat_minor": 5
}
