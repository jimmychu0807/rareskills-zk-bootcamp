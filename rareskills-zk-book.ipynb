{
 "cells": [
  {
   "cell_type": "markdown",
   "id": "0fcec896-f666-4be2-87f9-217c47d2cb53",
   "metadata": {},
   "source": [
    "# Ch2 - Arithmetic Circuit"
   ]
  },
  {
   "cell_type": "code",
   "execution_count": null,
   "id": "4d717516-6d9c-4a98-95df-c10ec1442b2c",
   "metadata": {},
   "outputs": [],
   "source": [
    "print(bin(3))\n",
    "print(bin(9))"
   ]
  },
  {
   "cell_type": "markdown",
   "id": "dd9ec633-2671-4025-97fc-4893a9ec9383",
   "metadata": {},
   "source": [
    "## Practice Problems"
   ]
  },
  {
   "cell_type": "markdown",
   "id": "4e5572d3-6fa8-4e31-a972-43ecb8aa12d1",
   "metadata": {},
   "source": [
    "1. Create an arithmetic circuit that takes signals x₁, x₂, ..., xₙ and is satisfied if at least one signal is 0.\n",
    "\n",
    "   `x1 * x2 * x3 * x4 ... * xn === 0`"
   ]
  },
  {
   "cell_type": "markdown",
   "id": "fb6e79a6-3625-4c26-8d34-744732443dfb",
   "metadata": {},
   "source": [
    "2. Create an arithmetic circuit that takes signals x₁, x₂, ..., xₙ and is satsified if all are 1.\n",
    "\n",
    "   `(x1 - 1) * (x2 - 1) * (x3 - 1)... * (xn - 1) === 0`"
   ]
  },
  {
   "cell_type": "markdown",
   "id": "f31bfff6-826d-4ef8-9c6b-577b9307caf3",
   "metadata": {},
   "source": [
    "3. Assume on Australia, there is a 2-coloring scheme\n",
    "\n",
    "   Recall that Australia has six territories:\n",
    "\n",
    "   ![Australia map](https://static.wixstatic.com/media/706568_b649d43396ef43cd954f4beb61dc1bc6~mv2.jpg/v1/fill/w_315,h_284,al_c,q_80,usm_0.66_1.00_0.01,enc_auto/706568_b649d43396ef43cd954f4beb61dc1bc6~mv2.jpg)\n",
    "\n",
    "   **WA** = West Australia  \n",
    "   **SA** = South Australia  \n",
    "   **NT** = Northern Territory  \n",
    "   **Q** = Queensland  \n",
    "   **NSW** = New South Wales  \n",
    "   **V** = Victoria  \n",
    "\n",
    "   Let 0 be one color, and 1 be another color.\n",
    "\n",
    "   ```\n",
    "   # Color constraints\n",
    "   WA * (WA - 1) === 0\n",
    "   SA * (SA - 1) === 0\n",
    "   NT * (Q - 1) === 0\n",
    "   ...\n",
    "\n",
    "   # Neighborhood constraints\n",
    "   WA * NT === 0\n",
    "   WA * SA === 0\n",
    "   NT * SA === 0\n",
    "   NT * Q === 0\n",
    "   SA * NSW === 0\n",
    "   SA * V === 0\n",
    "   Q * NSW === 0\n",
    "   NSW * V === 0\n",
    "   ```"
   ]
  },
  {
   "cell_type": "markdown",
   "id": "38498336-950f-443a-a2d5-24e45c3fc2a3",
   "metadata": {},
   "source": [
    "4. Devise an arithmetic circuit that constrains k to be the maximum of x, y, or z. That is, k should be equal to x if x is the maximum value, and same for y and z.\n",
    "\n",
    "   ```\n",
    "   # OR the following conditions tgt\n",
    "   # (k - x) === 0 if x is max(x, y, z)\n",
    "   # (k - y) === 0 if y is max(x, y, z)\n",
    "   # (k - z) === 0 if z is max(x, y, z)\n",
    "   \n",
    "   # x is max(x, y, z) === x - y >= 0 && y - z >= 0\n",
    "   ```"
   ]
  },
  {
   "cell_type": "markdown",
   "id": "79c94b04-6652-4b85-9faf-eb67ebeb716a",
   "metadata": {},
   "source": [
    "# Ch3 - Finite Fields & Modular Arithmetic"
   ]
  },
  {
   "cell_type": "code",
   "execution_count": 1,
   "id": "4e08d41f-fe60-4e4c-925c-8d91495088f8",
   "metadata": {},
   "outputs": [
    {
     "name": "stdout",
     "output_type": "stream",
     "text": [
      "4\n"
     ]
    }
   ],
   "source": [
    "p = 11\n",
    "q = pow(3, -1, p); print(q)"
   ]
  },
  {
   "cell_type": "code",
   "execution_count": null,
   "id": "c8671e80-eb57-46fe-8172-42da631a1680",
   "metadata": {},
   "outputs": [],
   "source": [
    "import galois\n",
    "import numpy as np\n",
    "GF7 = galois.GF(7)\n",
    "\n",
    "one_half = GF7(1) / GF7(2); print(one_half)\n",
    "negative_two = -GF7(2); print(negative_two)\n",
    "\n",
    "GF11 = galois.GF(11)\n",
    "sqrt = np.sqrt(GF11(5)); print(sqrt)\n",
    "\n",
    "p = 21888242871839275222246405745257275088548364400416034343698204186575808495617\n",
    "GF = galois.GF(p)\n",
    "\n",
    "poly = galois.Poly([1, 2, -8], GF)\n",
    "roots = poly.roots(); print(f\"roots: {roots}\")"
   ]
  }
 ],
 "metadata": {
  "kernelspec": {
   "display_name": "Python 3 (ipykernel)",
   "language": "python",
   "name": "python3"
  },
  "language_info": {
   "codemirror_mode": {
    "name": "ipython",
    "version": 3
   },
   "file_extension": ".py",
   "mimetype": "text/x-python",
   "name": "python",
   "nbconvert_exporter": "python",
   "pygments_lexer": "ipython3",
   "version": "3.12.2"
  }
 },
 "nbformat": 4,
 "nbformat_minor": 5
}
