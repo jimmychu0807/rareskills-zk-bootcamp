{
 "cells": [
  {
   "cell_type": "markdown",
   "id": "f4dadae7-a51d-40b9-8628-85f0f031a159",
   "metadata": {},
   "source": [
    "# Rareskills ZK Bootcamp (2024 Jun)"
   ]
  },
  {
   "cell_type": "markdown",
   "id": "ee461a72-13c8-441f-ae4e-70fdaafdffb7",
   "metadata": {},
   "source": [
    "## Class 01 (2024-06-18)"
   ]
  },
  {
   "cell_type": "markdown",
   "id": "d75c3fa6-0bfc-4132-9b0d-68b9f5d44d34",
   "metadata": {},
   "source": [
    "- [Class fireflies recording](https://app.fireflies.ai/view/Week-1-Zero-Knowledge-Proof-w-Jeffrey-Cohort-11-June-RareSkills::PYQexrM8P4L8wUYI)\n",
    "- [homework](https://almondine-song-c43.notion.site/Homework-1-26cad185ffbc479faf060b5867b442ec)\n",
    "- [py_ecc library](https://github.com/ethereum/py_ecc/blob/main/py_ecc/fields/field_elements.py), maybe useful in future."
   ]
  },
  {
   "cell_type": "code",
   "execution_count": null,
   "id": "99ca3004-f843-49d9-a06d-9723f1bff299",
   "metadata": {},
   "outputs": [],
   "source": [
    "# First thing first, import necessary libraries\n",
    "import numpy as np\n",
    "import galois # Perform finite field arithmetic\n",
    "print(f\"galois ver: {galois.__version__}\")\n",
    "print(f\"numpy ver: {np.__version__}\")"
   ]
  },
  {
   "cell_type": "code",
   "execution_count": null,
   "id": "46e18df2-43bb-4876-856b-b9983b174613",
   "metadata": {
    "scrolled": true
   },
   "outputs": [],
   "source": [
    "# You can do power in mod p (finite field)\n",
    "p = 103\n",
    "print(f\"The inverse of 10 mod {p} is {pow(10, -1, p)}\")\n",
    "res = (5 * pow(7, -1, p)) % p\n",
    "print(f\"The equivalent of 5/7 mod {p} is {res}\")\n",
    "assert(res * 7 % p == 5)"
   ]
  },
  {
   "cell_type": "code",
   "execution_count": null,
   "id": "18e6d449-9933-43b8-a202-fb8958e75db0",
   "metadata": {},
   "outputs": [],
   "source": [
    "GF = galois.GF(3**5)\n",
    "print(GF.properties)"
   ]
  },
  {
   "cell_type": "code",
   "execution_count": null,
   "id": "a3635fae-f310-4c31-8da5-a12becd19e4c",
   "metadata": {},
   "outputs": [],
   "source": [
    "GF17 = galois.GF(17)\n",
    "a = GF17(12)\n",
    "b = GF17(15)\n",
    "print(a / b)\n",
    "GF17(5)/GF17(6)"
   ]
  },
  {
   "cell_type": "code",
   "execution_count": null,
   "id": "2a58dc00-fedc-4ca3-8931-01658b8c1f6d",
   "metadata": {},
   "outputs": [],
   "source": [
    "8 * 12 % 17"
   ]
  },
  {
   "cell_type": "code",
   "execution_count": null,
   "id": "8a7e8ff8-dbd2-4d60-b967-0b1a7799b4ee",
   "metadata": {},
   "outputs": [],
   "source": [
    "poly = galois.Poly([1,2,1], field=GF17)"
   ]
  },
  {
   "cell_type": "code",
   "execution_count": null,
   "id": "d3976b28-6dfd-4222-a636-66841c9c1804",
   "metadata": {},
   "outputs": [],
   "source": [
    "(poly * GF17(3)).roots()"
   ]
  },
  {
   "cell_type": "code",
   "execution_count": null,
   "id": "24450041-efbf-43ac-9c99-3cffb828b0c9",
   "metadata": {},
   "outputs": [],
   "source": [
    "poly // galois.Poly([1,-1], field=GF17)"
   ]
  },
  {
   "cell_type": "code",
   "execution_count": null,
   "id": "a9b1f041-a79d-4fc8-8376-61fa589d2ef9",
   "metadata": {},
   "outputs": [],
   "source": [
    "x = GF([236, 87, 38, 112]); print(f\"x: {x}\")\n",
    "y = np.array([109, 17, 108, 224])\n",
    "y = y.view(GF); print(f\"y: {y}\")"
   ]
  },
  {
   "cell_type": "code",
   "execution_count": null,
   "id": "fd78cc5c-c62d-453e-91ac-b963f3c336c3",
   "metadata": {},
   "outputs": [],
   "source": [
    "np.log(x)"
   ]
  },
  {
   "cell_type": "code",
   "execution_count": null,
   "id": "fc001e03-c856-44d5-8f17-989064c2d9f0",
   "metadata": {},
   "outputs": [],
   "source": [
    "print(GF.properties)"
   ]
  },
  {
   "cell_type": "code",
   "execution_count": null,
   "id": "10598e55-bec0-45d1-9087-fe0ff45c41ad",
   "metadata": {},
   "outputs": [],
   "source": [
    "GF17.repr(\"power\"); GF17(16)"
   ]
  },
  {
   "cell_type": "code",
   "execution_count": null,
   "id": "06c02675-88f3-4733-bdc8-598a7bcd92d5",
   "metadata": {},
   "outputs": [],
   "source": [
    "GF243 = galois.GF(3**5); print(GF.properties)"
   ]
  },
  {
   "cell_type": "code",
   "execution_count": null,
   "id": "cb7df9f0-4730-4448-8634-cf26af64099a",
   "metadata": {},
   "outputs": [],
   "source": [
    "GF243.repr(\"poly\"); GF243(117)"
   ]
  },
  {
   "cell_type": "code",
   "execution_count": null,
   "id": "62966f91-5cd9-4b61-a343-28ca56fe25bf",
   "metadata": {},
   "outputs": [],
   "source": [
    "3**4 + 3**3 + 3**2"
   ]
  },
  {
   "cell_type": "code",
   "execution_count": null,
   "id": "2c0c6b29-82ac-4d92-a6e8-6d472fff89a7",
   "metadata": {},
   "outputs": [],
   "source": [
    "GF17.dtypes"
   ]
  },
  {
   "cell_type": "code",
   "execution_count": null,
   "id": "d0ace755-df63-4375-ad0d-1cc6d9d4437d",
   "metadata": {},
   "outputs": [],
   "source": [
    "GF228 = galois.GF(2**8); print(GF228.properties)"
   ]
  },
  {
   "cell_type": "code",
   "execution_count": null,
   "id": "3ed6a50a-dcc4-4f51-80af-55cabea09705",
   "metadata": {},
   "outputs": [],
   "source": [
    "p = galois.Poly([1, 0, 0, 55, 23], field=GF228); p"
   ]
  },
  {
   "cell_type": "code",
   "execution_count": null,
   "id": "e398c3a5-8da8-45c1-99b3-13949574e52d",
   "metadata": {},
   "outputs": [],
   "source": [
    "p.roots()"
   ]
  },
  {
   "cell_type": "code",
   "execution_count": null,
   "id": "c9730072-3891-4595-8ca1-c52c6d6a10d2",
   "metadata": {},
   "outputs": [],
   "source": [
    "(58**4 + 55*58 + 23) % (2**8)"
   ]
  },
  {
   "cell_type": "code",
   "execution_count": null,
   "id": "437cc801-c4af-440f-86ce-d52a24449f94",
   "metadata": {},
   "outputs": [],
   "source": [
    "p = 2**8\n",
    "x = 58\n",
    "\n",
    "(x**4 + 55 * x + 23) % p"
   ]
  },
  {
   "cell_type": "markdown",
   "id": "55a2bb6d-1613-4e63-89cb-55d1cebad7a0",
   "metadata": {},
   "source": [
    "## Homework\n",
    "\n",
    "url: <https://almondine-song-c43.notion.site/Homework-1-26cad185ffbc479faf060b5867b442ec>"
   ]
  },
  {
   "cell_type": "markdown",
   "id": "8c3a1212-1e45-4f29-a5d0-656cc6b23897",
   "metadata": {},
   "source": [
    "### Problem 1"
   ]
  },
  {
   "cell_type": "code",
   "execution_count": 1,
   "id": "e6289447-9c54-4ad0-a5f6-da3e6b1f03b3",
   "metadata": {},
   "outputs": [
    {
     "name": "stdout",
     "output_type": "stream",
     "text": [
      "-1: 70\n",
      "-4: 67\n",
      "-160: 53\n",
      "500: 3\n"
     ]
    }
   ],
   "source": [
    "p = 71\n",
    "\n",
    "def toFiniteField(n, p):\n",
    "    assert p > 0, f\"p has to be a positive integer. We got {p}\"\n",
    "    if (n >= 0 and n < p): return n\n",
    "    val = n\n",
    "    while (n < 0):\n",
    "        val += p\n",
    "        if (val >= 0): return val\n",
    "    while (n >= p):\n",
    "        val -= p\n",
    "        if (val < p): return val\n",
    "\n",
    "# For -1\n",
    "q1 = -1\n",
    "s1 = toFiniteField(q1, p); print(f\"{q1}: {s1}\")\n",
    "\n",
    "# For -4\n",
    "q2 = -4\n",
    "s2 = toFiniteField(q2, p); print(f\"{q2}: {s2}\")\n",
    "\n",
    "# For -160\n",
    "q3 = -160\n",
    "s3 = toFiniteField(q3, p); print(f\"{q3}: {s3}\")\n",
    "\n",
    "# For 500\n",
    "q4 = 500\n",
    "s4 = toFiniteField(q4, p); print(f\"{q4}: {s4}\")"
   ]
  },
  {
   "cell_type": "markdown",
   "id": "e5a6bc28-54df-41c0-9d77-d3948d897e8e",
   "metadata": {},
   "source": [
    "### Problem 2"
   ]
  },
  {
   "cell_type": "code",
   "execution_count": 3,
   "id": "cd5ceb4e-4c22-44a9-bc27-e88ce823f025",
   "metadata": {},
   "outputs": [
    {
     "name": "stdout",
     "output_type": "stream",
     "text": [
      "a: 60\n",
      "b: 66\n",
      "c: 55\n"
     ]
    }
   ],
   "source": [
    "import galois\n",
    "\n",
    "GF71 = galois.GF(71)\n",
    "\n",
    "# a = 5/6\n",
    "a = GF71(5)/GF71(6); print(f\"a: {a}\")\n",
    "\n",
    "# b = 11/12\n",
    "b = GF71(11)/GF71(12); print(f\"b: {b}\")\n",
    "\n",
    "# c = 21/12\n",
    "c = GF71(21)/GF71(12); print(f\"c: {c}\")\n",
    "\n",
    "assert a + b == c"
   ]
  },
  {
   "cell_type": "markdown",
   "id": "5a331ee9-b34d-4c35-b2d8-e4b3297f985c",
   "metadata": {},
   "source": [
    "### Problem 3"
   ]
  },
  {
   "cell_type": "code",
   "execution_count": 4,
   "id": "46c57ed6-a08d-48a2-b468-0a5e633534c3",
   "metadata": {},
   "outputs": [
    {
     "name": "stdout",
     "output_type": "stream",
     "text": [
      "2/3: 48\n",
      "1/2: 36\n",
      "1/3: 24\n"
     ]
    }
   ],
   "source": [
    "# a = 2/3\n",
    "a = GF71(2) / GF71(3); print(f\"2/3: {a}\")\n",
    "# b = 1/2\n",
    "b = GF71(1) / GF71(2); print(f\"1/2: {b}\")\n",
    "# c = 1/3\n",
    "c = GF71(1) / GF71(3); print(f\"1/3: {c}\")\n",
    "\n",
    "assert a * b == c"
   ]
  },
  {
   "cell_type": "markdown",
   "id": "788a4d53-bfa6-4cab-941c-1b011ece5e6a",
   "metadata": {},
   "source": [
    "### Problem 4"
   ]
  },
  {
   "cell_type": "code",
   "execution_count": 5,
   "id": "725ce75e-9e41-40ea-a76d-e8f63bce6902",
   "metadata": {},
   "outputs": [
    {
     "name": "stdout",
     "output_type": "stream",
     "text": [
      "sqrt: 15\n",
      "sqrt2: 56\n"
     ]
    }
   ],
   "source": [
    "# What is the modular square root of 12?\n",
    "# Verify your answer by checking that x * x = 12 (mod 71)\n",
    "import numpy as np\n",
    "import galois\n",
    "GF71 = galois.GF(71)\n",
    "v = GF71(12)\n",
    "sqrt = np.sqrt(v); print(f\"sqrt: {sqrt}\")\n",
    "assert(GF71(sqrt) * GF71(sqrt) == v)\n",
    "\n",
    "# The square root can also be the additive inverse, so:\n",
    "sqrt2 = sqrt * -GF71(1); print(f\"sqrt2: {sqrt2}\")\n",
    "assert(GF71(sqrt2) * GF71(sqrt2) == v)"
   ]
  },
  {
   "cell_type": "markdown",
   "id": "15d67e5f-5174-49fe-a895-fd705d64587a",
   "metadata": {},
   "source": [
    "### Problem 5\n",
    "\n",
    "Compute the inverse of the following matrix:\n",
    "\n",
    "\\begin{bmatrix}1 & 1\\\\1 & 4\\end{bmatrix}"
   ]
  },
  {
   "cell_type": "code",
   "execution_count": 6,
   "id": "24e45577-df89-43ea-94b4-f71c2dda6554",
   "metadata": {},
   "outputs": [
    {
     "name": "stdout",
     "output_type": "stream",
     "text": [
      "The inverse: $[[25 47]\n",
      " [47 24]]\n"
     ]
    }
   ],
   "source": [
    "import numpy as np\n",
    "import galois\n",
    "GF71 = galois.GF(71)\n",
    "\n",
    "arr = GF71([[1, 1], [1, 4]])\n",
    "inverse = np.linalg.inv(arr); print(f\"The inverse: ${inverse}\")\n",
    "\n",
    "# This is the matrix multiplication\n",
    "np.testing.assert_equal(arr @ inverse, np.identity(2))"
   ]
  },
  {
   "cell_type": "markdown",
   "id": "17edd0ed-4083-40a6-9790-a9b0cff368cb",
   "metadata": {},
   "source": [
    "### Problem 6"
   ]
  },
  {
   "cell_type": "code",
   "execution_count": 7,
   "id": "976ae625-82bf-4bab-9b1a-ed92cd850e26",
   "metadata": {},
   "outputs": [
    {
     "name": "stdout",
     "output_type": "stream",
     "text": [
      "p(x) + q(x): 21x^2 + 64x + 48\n",
      "p(x) * q(x): 21x^4 + 58x^3 + 26x^2 + 69x + 59\n",
      "roots of p(x): [34 42]\n",
      "roots of q(x): []\n",
      "roots of p(x)q(x): [34 42]\n"
     ]
    }
   ],
   "source": [
    "p = galois.Poly([52, 24, 61], field = GF71)\n",
    "q = galois.Poly([40, 40, 58], field = GF71)\n",
    "s1 = p + q; print(f\"p(x) + q(x): {s1}\")\n",
    "s2 = p * q; print(f\"p(x) * q(x): {s2}\")\n",
    "\n",
    "root_p = p.roots(); print(f\"roots of p(x): {root_p}\")\n",
    "root_q = q.roots(); print(f\"roots of q(x): {root_q}\")\n",
    "root_s2 = s2.roots(); print(f\"roots of p(x)q(x): {root_s2}\")"
   ]
  },
  {
   "cell_type": "markdown",
   "id": "be6c61bb-a0da-4102-b915-9c941a22bdda",
   "metadata": {},
   "source": [
    "### Problem 7\n",
    "Find a polynomial f(x) that crosses the points (10, 15), (23, 29).\n",
    "\n",
    "Since these are two points, the polynomial will be of degree 1 and be the equation for a line (y = ax + b)."
   ]
  },
  {
   "cell_type": "code",
   "execution_count": 8,
   "id": "b9a8491b-1f28-4c9c-8e0f-3ce596e79ce6",
   "metadata": {},
   "outputs": [
    {
     "name": "stdout",
     "output_type": "stream",
     "text": [
      "The polynomial: 12x + 37\n"
     ]
    }
   ],
   "source": [
    "# Solve with lagrange interpolation\n",
    "import galois\n",
    "import numpy as np\n",
    "\n",
    "GF71 = galois.GF(71)\n",
    "x = GF71([10, 23])\n",
    "y = GF71([15, 29])\n",
    "\n",
    "L = galois.lagrange_poly(x, y)\n",
    "print(f\"The polynomial: {L}\")\n",
    "\n",
    "np.testing.assert_equal(L(10), GF71(15))\n",
    "np.testing.assert_equal(L(23), GF71(29))"
   ]
  },
  {
   "cell_type": "markdown",
   "id": "7306f443-e1aa-4a20-8fa3-228220b3feb0",
   "metadata": {},
   "source": [
    "### Problem 8\n",
    "\n",
    "What is Lagrange interpolation and what does it do?\n",
    "\n",
    "Find a polynomial that crosses through the points (0, 1), (1, 2), (2, 1).\n",
    "\n",
    "Use this Stackoverflow answer as a starting point: https://stackoverflow.com/a/73434775"
   ]
  },
  {
   "cell_type": "markdown",
   "id": "20610bc3-4d8d-46eb-8cae-b01017496205",
   "metadata": {},
   "source": [
    "**Ans**: Given a set of points, Lagrange interpolation find the lowest-order polynomial that fit all those points. It involves scaling a set of lagrange polynomials to the given y values (of those points) and then sum them up.\n"
   ]
  },
  {
   "cell_type": "code",
   "execution_count": 9,
   "id": "655983bd-2a84-40a4-bcc7-5298a2f77702",
   "metadata": {},
   "outputs": [
    {
     "name": "stdout",
     "output_type": "stream",
     "text": [
      "The polynomial: 70x^2 + 2x + 1\n"
     ]
    }
   ],
   "source": [
    "import galois\n",
    "import numpy as np\n",
    "\n",
    "GF71 = galois.GF(71)\n",
    "x = GF71([0, 1, 2])\n",
    "y = GF71([1, 2, 1])\n",
    "\n",
    "L = galois.lagrange_poly(x, y); print(f\"The polynomial: {L}\")\n",
    "\n",
    "np.testing.assert_equal(L(0), GF71(1))\n",
    "np.testing.assert_equal(L(1), GF71(2))\n",
    "np.testing.assert_equal(L(2), GF71(1))"
   ]
  }
 ],
 "metadata": {
  "kernelspec": {
   "display_name": "Python 3 (ipykernel)",
   "language": "python",
   "name": "python3"
  },
  "language_info": {
   "codemirror_mode": {
    "name": "ipython",
    "version": 3
   },
   "file_extension": ".py",
   "mimetype": "text/x-python",
   "name": "python",
   "nbconvert_exporter": "python",
   "pygments_lexer": "ipython3",
   "version": "3.10.12"
  }
 },
 "nbformat": 4,
 "nbformat_minor": 5
}
