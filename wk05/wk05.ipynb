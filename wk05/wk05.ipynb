{
 "cells": [
  {
   "cell_type": "markdown",
   "id": "91b6bc54-ee94-4800-a41a-caf4de73fa34",
   "metadata": {},
   "source": [
    "# Week 5 Assignment\n",
    "\n",
    "Implement a solidity contract that verifies the computation for the EC points.\n",
    "\n",
    "$$\n",
    "\\begin{matrix}\n",
    "0 = -A_1B_2 +\\alpha_1\\beta_2 + X_1\\gamma_2 + C_1\\delta_2\\\\\n",
    "X_1=x_1G1 + x_2G1 + x_3G1\n",
    "\\end{matrix}\n",
    "$$\n",
    "\n",
    "Pick any (nontrivial) values to generate the points that results a balanced equation.\n",
    "\n",
    "Note that x1, x2, x3 are uint256 and the rest are G1 or G2 points.\n",
    "\n",
    "You will need to take in the following as arguments to a public function:\n",
    "\n",
    "$$\n",
    "A_1, B_2, C_1, x_1,x_2,x_3\n",
    "$$\n",
    "\n",
    "Use the ethereum precompiles for addition and multiplication to compute $X$, then the precompile for pairing to compute the entire equation in one go.\n",
    "\n",
    "All other points should be hardcoded into the contract. For example, suppose you want\n",
    "\n",
    "$$\n",
    "\\begin{matrix}\n",
    "\\alpha_1 = 5G_1\\\\\n",
    "\\beta_2 = 6G_2\\\\\n",
    "...\n",
    "\\end{matrix}\n",
    "$$\n",
    "\n",
    "You need to compute those values and write them as constants inside the contract.\n",
    "\n",
    "**Tip: make the pairing work with only two sets of points (2 G1 and 2 G2) first for simple examples. The order for G2 in the precompile is not what you are expecting it to be!**\n"
   ]
  },
  {
   "cell_type": "code",
   "execution_count": null,
   "id": "2c5578d2-693b-4dab-a162-705f9c2ef1ea",
   "metadata": {},
   "outputs": [],
   "source": [
    "from py_ecc.bn128 import G1, G2, eq, add, pairing, multiply, curve_order\n",
    "\n",
    "sixG2 = multiply(G2, 6)\n",
    "print(sixG2)\n",
    "\n",
    "threeG1 = multiply(G1, 3)\n",
    "print(f\"threeG1: {threeG1}\")\n",
    "\n",
    "fiveG1 = multiply(G1, 5)\n",
    "print(f\"fiveG1: {fiveG1}\")\n",
    "\n",
    "twoG2 = multiply(G2, 2)\n",
    "print(f\"2G2: {twoG2}\")\n",
    "\n",
    "threeG2 = multiply(G2, 3)\n",
    "print(f\"3G2: {threeG2}\")\n",
    "\n",
    "fiveG2 = multiply(G2, 5)\n",
    "print(f\"5G2: {fiveG2}\")\n",
    "\n",
    "tenG2 = multiply(G2, 10)\n",
    "print(f\"10G2: {tenG2}\")\n",
    "\n",
    "fifteenG2 = multiply(G2, 15)\n",
    "print(f\"15G2: {fifteenG2}\")\n"
   ]
  }
 ],
 "metadata": {
  "kernelspec": {
   "display_name": "Python 3 (ipykernel)",
   "language": "python",
   "name": "python3"
  },
  "language_info": {
   "codemirror_mode": {
    "name": "ipython",
    "version": 3
   },
   "file_extension": ".py",
   "mimetype": "text/x-python",
   "name": "python",
   "nbconvert_exporter": "python",
   "pygments_lexer": "ipython3",
   "version": "3.10.12"
  }
 },
 "nbformat": 4,
 "nbformat_minor": 5
}
