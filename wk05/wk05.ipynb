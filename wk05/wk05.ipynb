{
 "cells": [
  {
   "cell_type": "markdown",
   "id": "91b6bc54-ee94-4800-a41a-caf4de73fa34",
   "metadata": {},
   "source": [
    "# Homework 5\n",
    "\n",
    "Implement a solidity contract that verifies the computation for the EC points.\n",
    "\n",
    "$$\n",
    "\\begin{matrix}\n",
    "0 = -A_1B_2 +\\alpha_1\\beta_2 + X_1\\gamma_2 + C_1\\delta_2\\\\\n",
    "X_1=x_1G1 + x_2G1 + x_3G1\n",
    "\\end{matrix}\n",
    "$$\n",
    "\n",
    "Pick any (nontrivial) values to generate the points that results a balanced equation.\n",
    "\n",
    "Note that x1, x2, x3 are uint256 and the rest are G1 or G2 points.\n",
    "\n",
    "You will need to take in the following as arguments to a public function:\n",
    "\n",
    "$$\n",
    "A_1, B_2, C_1, x_1,x_2,x_3\n",
    "$$\n",
    "\n",
    "Use the ethereum precompiles for addition and multiplication to compute $X$, then the precompile for pairing to compute the entire equation in one go.\n",
    "\n",
    "All other points should be hardcoded into the contract. For example, suppose you want\n",
    "\n",
    "$$\n",
    "\\begin{matrix}\n",
    "\\alpha_1 = 5G_1\\\\\n",
    "\\beta_2 = 6G_2\\\\\n",
    "...\n",
    "\\end{matrix}\n",
    "$$\n",
    "\n",
    "You need to compute those values and write them as constants inside the contract.\n",
    "\n",
    "**Tip: make the pairing work with only two sets of points (2 G1 and 2 G2) first for simple examples. The order for G2 in the precompile is not what you are expecting it to be!**\n"
   ]
  },
  {
   "cell_type": "code",
   "execution_count": 8,
   "id": "2c5578d2-693b-4dab-a162-705f9c2ef1ea",
   "metadata": {},
   "outputs": [
    {
     "name": "stdout",
     "output_type": "stream",
     "text": [
      "((10191129150170504690859455063377241352678147020731325090942140630855943625622, 12345624066896925082600651626583520268054356403303305150512393106955803260718), (16727484375212017249697795760885267597317766655549468217180521378213906474374, 13790151551682513054696583104432356791070435696840691503641536676885931241944))\n",
      "threeG1: (3353031288059533942658390886683067124040920775575537747144343083137631628272, 19321533766552368860946552437480515441416830039777911637913418824951667761761)\n",
      "fiveG1: (10744596414106452074759370245733544594153395043370666422502510773307029471145, 848677436511517736191562425154572367705380862894644942948681172815252343932)\n",
      "threeG2: ((2725019753478801796453339367788033689375851816420509565303521482350756874229, 7273165102799931111715871471550377909735733521218303035754523677688038059653), (2512659008974376214222774206987427162027254181373325676825515531566330959255, 957874124722006818841961785324909313781880061366718538693995380805373202866))\n",
      "fifteenG2: ((9029403783378787853997717420738421556814147177180364590697173291656229463431, 757763506634636222198457474118983919632880922091637496692377079250063651595), (144608159719011942507868083402155826875845015828284370329399644722076982703, 5329243461463493295212542252749728893088827844451654683091781486904081692016))\n",
      "((14502447760486387799059318541209757040844770937862468921929310682431317530875, 2443430939986969712743682923434644543094899517010817087050769422599268135103), (11721331165636005533649329538372312212753336165656329339895621434122061690013, 4704672529862198727079301732358554332963871698433558481208245291096060730807))\n"
     ]
    }
   ],
   "source": [
    "from py_ecc.bn128 import G1, G2, eq, add, pairing, multiply, curve_order\n",
    "\n",
    "sixG2 = multiply(G2, 6)\n",
    "print(sixG2)\n",
    "\n",
    "threeG1 = multiply(G1, 3)\n",
    "print(f\"threeG1: {threeG1}\")\n",
    "\n",
    "fiveG1 = multiply(G1, 5)\n",
    "print(f\"fiveG1: {fiveG1}\")\n",
    "\n",
    "threeG2 = multiply(G2, 3)\n",
    "print(f\"threeG2: {threeG2}\")\n",
    "\n",
    "fifteenG2 = multiply(G2, 15)\n",
    "print(f\"fifteenG2: {fifteenG2}\")\n",
    "\n",
    "tenG2 = multiply(G2, 10)\n",
    "print(f\"tenG2: {tenG2}\")"
   ]
  }
 ],
 "metadata": {
  "kernelspec": {
   "display_name": "Python 3 (ipykernel)",
   "language": "python",
   "name": "python3"
  },
  "language_info": {
   "codemirror_mode": {
    "name": "ipython",
    "version": 3
   },
   "file_extension": ".py",
   "mimetype": "text/x-python",
   "name": "python",
   "nbconvert_exporter": "python",
   "pygments_lexer": "ipython3",
   "version": "3.10.12"
  }
 },
 "nbformat": 4,
 "nbformat_minor": 5
}
