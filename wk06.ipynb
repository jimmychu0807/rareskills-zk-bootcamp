{
 "cells": [
  {
   "cell_type": "markdown",
   "id": "94001ec0-17e3-4994-ba54-7af9f7a9becd",
   "metadata": {},
   "source": [
    "src: <https://www.rareskills.io/post/arithmetic-circuit>\n",
    "\n",
    "5. Create an arithmetic circuit that takes signals x₁, x₂, ..., xₙ, constrains them to be binary, and outputs 1 if at least one of the signals is 1. Hint: this is tricker than it looks. Consider combining what you learned in the first two problems and using the NOT gate.\n",
    "\n",
    "6. Devise an arithmetic circuit to determine if a signal v is a power of two (1, 2, 4, 8, etc). Hint: create an arithmetic circuit that constrains another set of signals to encode the binary representation of v, then place additional restrictions on those signals.\n",
    "\n",
    "7. The covering set problem starts with a set S = {1, 2, …, 10} and several well-defined subsets of S, for example: {1, 2, 3}, {3, 5, 7, 9}, {8, 10}, {5, 6, 7, 8}, {2, 4, 6, 8}, and asks if we can take at most k subsets of S such that their union is S. In the example problem above, the answer for k = 4 is true because we can use {1, 2, 3}, {3, 5, 7, 9}, {8, 10}, {2, 4, 6, 8}. Note that for each problems, the subsets we can work with are determined at the beginning. We cannot construct the subsets ourselves. If we had been given the subsets {1,2,3}, {4,5} {7,8,9,10} then there would be no solution because the number 6 is not in the subsets."
   ]
  },
  {
   "cell_type": "markdown",
   "id": "f9612a99-d56c-425f-aca1-cfc79681b403",
   "metadata": {},
   "source": [
    "**Q1**: Create an arithmetic circuit that takes signals x₁, x₂, ..., xₙ and is satisfied if at least one signal is 0.\n"
   ]
  },
  {
   "cell_type": "markdown",
   "id": "b590f092-c3b0-46fe-9246-8b3fd586c87c",
   "metadata": {},
   "source": [
    "**Ans**:\n",
    "\n",
    "$$\n",
    "x_1 \\cdot x_2 \\cdot x_3 \\cdot ... x_n = 0\n",
    "$$"
   ]
  },
  {
   "cell_type": "markdown",
   "id": "007d4b03-27cf-435f-b71c-2a701c234e38",
   "metadata": {},
   "source": [
    "**Q2**: Create an arithmetic circuit that takes signals x₁, x₂, ..., xₙ and is satsified if all are 1."
   ]
  },
  {
   "cell_type": "markdown",
   "id": "a34259ba-e144-47ac-91da-0b79ece7a01e",
   "metadata": {},
   "source": [
    "**Ans**:\n",
    "\n",
    "$$\n",
    "\\begin{matrix}\n",
    "x_1 - 1 = 0 \\\\\n",
    "x_2 - 1 = 0 \\\\\n",
    "... \\\\\n",
    "x_n - 1 = 0\n",
    "\\end{matrix}\n",
    "$$"
   ]
  },
  {
   "cell_type": "markdown",
   "id": "6901c2a7-dbb5-4717-8fe3-60e40e5c7320",
   "metadata": {},
   "source": [
    "**Q3**: A bipartite graph is a graph that can be colored with two colors such that no two neighboring nodes share the same color. Devise an arithmetic circuit scheme to show you have a valid witness of a 2-coloring of a graph. Hint: the scheme in this tutorial needs to be adjusted before it will work with a 2-coloring.\n",
    "\n"
   ]
  },
  {
   "cell_type": "markdown",
   "id": "21b99970-c884-421a-8927-7a7edf428479",
   "metadata": {},
   "source": [
    "**Ans**:\n",
    "\n",
    "Let $v_1$, $v_2$, ... $v_n$ be the vertices of the graph.\n",
    "\n",
    "Let $1$ - color 1, $2$ - color 2.\n",
    "\n",
    "We want the following circuit to be satisfied:\n",
    "\n",
    "$$\n",
    "\\forall n \\; \\; (v_n - 1) \\cdot (v_n - 2) = 0\n",
    "$$\n",
    "\n",
    "For each edge, let the connected vertices be $v_a$ and $v_b$, we want:\n",
    "\n",
    "$$\n",
    "v_a \\cdot v_b - 2 = 0\n",
    "$$"
   ]
  },
  {
   "cell_type": "markdown",
   "id": "a59a5de5-6b1e-41ef-bd10-6fcd7ba5005a",
   "metadata": {},
   "source": [
    "**Q4**: Devise an arithmetic circuit that constrains k to be the maximum of x, y, or z. That is, k should be equal to x if x is the maximum value, and same for y and z."
   ]
  },
  {
   "cell_type": "markdown",
   "id": "8e7b4086-6854-40bb-87d2-8ac07802abbb",
   "metadata": {},
   "source": [
    "**Ans**:"
   ]
  }
 ],
 "metadata": {
  "kernelspec": {
   "display_name": "Python 3 (ipykernel)",
   "language": "python",
   "name": "python3"
  },
  "language_info": {
   "codemirror_mode": {
    "name": "ipython",
    "version": 3
   },
   "file_extension": ".py",
   "mimetype": "text/x-python",
   "name": "python",
   "nbconvert_exporter": "python",
   "pygments_lexer": "ipython3",
   "version": "3.10.12"
  }
 },
 "nbformat": 4,
 "nbformat_minor": 5
}
