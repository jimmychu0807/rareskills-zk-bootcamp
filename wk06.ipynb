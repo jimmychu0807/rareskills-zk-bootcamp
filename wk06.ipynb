{
 "cells": [
  {
   "cell_type": "markdown",
   "id": "94001ec0-17e3-4994-ba54-7af9f7a9becd",
   "metadata": {},
   "source": [
    "# [Week 6 Assignment](https://www.rareskills.io/post/arithmetic-circuit)"
   ]
  },
  {
   "cell_type": "markdown",
   "id": "f9612a99-d56c-425f-aca1-cfc79681b403",
   "metadata": {},
   "source": [
    "**Q1**: Create an arithmetic circuit that takes signals x₁, x₂, ..., xₙ and is satisfied if at least one signal is 0.\n"
   ]
  },
  {
   "cell_type": "markdown",
   "id": "b590f092-c3b0-46fe-9246-8b3fd586c87c",
   "metadata": {},
   "source": [
    "**Ans**:\n",
    "\n",
    "$$\n",
    "\\prod_{i=1}^{n} x_i === 0\n",
    "$$"
   ]
  },
  {
   "cell_type": "markdown",
   "id": "007d4b03-27cf-435f-b71c-2a701c234e38",
   "metadata": {},
   "source": [
    "**Q2**: Create an arithmetic circuit that takes signals x₁, x₂, ..., xₙ and is satsified if all are 1."
   ]
  },
  {
   "cell_type": "markdown",
   "id": "a34259ba-e144-47ac-91da-0b79ece7a01e",
   "metadata": {},
   "source": [
    "**Ans**:\n",
    "\n",
    "$$\n",
    "\\begin{matrix}\n",
    "x_1 - 1 === 0 \\\\\n",
    "x_2 - 1 === 0 \\\\\n",
    "... \\\\\n",
    "x_n - 1 === 0\n",
    "\\end{matrix}\n",
    "$$"
   ]
  },
  {
   "cell_type": "markdown",
   "id": "6901c2a7-dbb5-4717-8fe3-60e40e5c7320",
   "metadata": {},
   "source": [
    "**Q3**: A bipartite graph is a graph that can be colored with two colors such that no two neighboring nodes share the same color. Devise an arithmetic circuit scheme to show you have a valid witness of a 2-coloring of a graph. Hint: the scheme in this tutorial needs to be adjusted before it will work with a 2-coloring.\n",
    "\n"
   ]
  },
  {
   "cell_type": "markdown",
   "id": "21b99970-c884-421a-8927-7a7edf428479",
   "metadata": {},
   "source": [
    "**Ans**:\n",
    "\n",
    "Let $v_1$, $v_2$, ... $v_n \\in V$ be the vertices of the graph.\n",
    "\n",
    "Let color 1 - $1$, color 2 - $2$.\n",
    "\n",
    "We want the following circuit to be satisfied:\n",
    "\n",
    "$$\n",
    "\\forall v_i \\in V, \\; \\; (v_i - 1) \\cdot (v_i - 2) === 0\n",
    "$$\n",
    "\n",
    "For each edge, let the connected vertices be $v_a$ and $v_b$, we want:\n",
    "\n",
    "$$\n",
    "v_a \\cdot v_b - 2 === 0\n",
    "$$"
   ]
  },
  {
   "cell_type": "markdown",
   "id": "a59a5de5-6b1e-41ef-bd10-6fcd7ba5005a",
   "metadata": {},
   "source": [
    "**Q4**: Devise an arithmetic circuit that constrains k to be the maximum of x, y, or z. That is, k should be equal to x if x is the maximum value, and same for y and z."
   ]
  },
  {
   "cell_type": "markdown",
   "id": "8e7b4086-6854-40bb-87d2-8ac07802abbb",
   "metadata": {},
   "source": [
    "**Ans**:\n",
    "\n",
    "Assume $x$, $y$, $z$ to be at most 4 bits.\n",
    "\n",
    "$$\n",
    "\\begin{matrix}\n",
    "x_0 + 2 x_1 + 2^2 x_2 + 2^3 x_3 === x\\\\\n",
    "\\forall x_i \\in X, \\; x_i (1 - x_i) === 0 \\\\\n",
    "\\\\\n",
    "y_0 + 2 y_1 + 2^2 y_2 + 2^3 y_3 === y\\\\\n",
    "\\forall y_i \\in Y, \\; y_i (1 - y_i) === 0 \\\\\n",
    "\\\\\n",
    "z_0 + 2 z_1 + 2^2 z_2 + 2^3 z_3 === z\\\\\n",
    "\\forall z_i \\in Z, \\; z_i (1 - z_i) === 0\n",
    "\\end{matrix}\n",
    "$$\n",
    "\n",
    "To create a circuit $GTE(x, y)$ which outputs $1$ if $x >= y$ and $0$ otherwise.\n",
    "\n",
    "$$\n",
    "\\begin{matrix}\n",
    "2^4 + x - y === v\\\\\n",
    "v_0 + 2 v_1 + 2^2 v_2 + 2^3 v_3 + 2^4 v_4 === v\\\\\n",
    "\\forall v_i \\in V, \\; v_i (1 - v_i) === 0 \\\\\n",
    "GTE(x, y) === v_4\n",
    "\\end{matrix}\n",
    "$$\n",
    "\n",
    "Now we can get $max_{xy}$ and $max_{xyz}$ by:\n",
    "\n",
    "$$\n",
    "\\begin{matrix}\n",
    "max_{xy} === GTE(x, y)x + (1 - GTE(x, y))y \\\\\n",
    "max_{xyz} === GTE(max_{xy}, z)max_{xy} + (1 - GTE(max_{xy}, z))z \\\\\n",
    "\\end{matrix}\n",
    "$$\n",
    "\n",
    "Finally, constrain k to be equal to $max_{xyz}$\n",
    "\n",
    "$$\n",
    "k === max_{xyz}\n",
    "$$"
   ]
  },
  {
   "cell_type": "markdown",
   "id": "0782e040-4ca0-4d19-afe5-f02643ef10ab",
   "metadata": {},
   "source": [
    "**Q5**: Create an arithmetic circuit that takes signals x₁, x₂, ..., xₙ, constrains them to be binary, and outputs 1 if at least one of the signals is 1. Hint: this is tricker than it looks. Consider combining what you learned in the first two problems and using the NOT gate."
   ]
  },
  {
   "cell_type": "markdown",
   "id": "3febd171-7049-40ee-b30a-e139bd8b536a",
   "metadata": {},
   "source": [
    "**Ans**:\n",
    "\n",
    "$$\n",
    "\\begin{matrix}\n",
    "output === 1 - \\prod_{i=1}^{n} 1-x_i\n",
    "\\end{matrix}\n",
    "$$"
   ]
  },
  {
   "cell_type": "markdown",
   "id": "17518021-2a87-4149-b0c9-985ceaec44a3",
   "metadata": {},
   "source": [
    "**Q6**: Devise an arithmetic circuit to determine if a signal v is a power of two (1, 2, 4, 8, etc). Hint: create an arithmetic circuit that constrains another set of signals to encode the binary representation of v, then place additional restrictions on those signals."
   ]
  },
  {
   "cell_type": "markdown",
   "id": "5d16cd0d-4a29-4d07-9bca-521177d22e75",
   "metadata": {},
   "source": [
    "**Ans**:\n",
    "\n",
    "Let's limit signal $v$ to 4 bits,\n",
    "\n",
    "$$\n",
    "\\begin{matrix}\n",
    "v_0 + 2^1v_1 + 2^2v_2 + 2^3v_3 === v\\\\\n",
    "\\forall v_i \\in V, \\; v_i(v_i - 1) === 0 \\\\\n",
    "\\sum_{i=0}^{3} v_i === 1 \\\\\n",
    "\\end{matrix}\n",
    "$$"
   ]
  },
  {
   "cell_type": "markdown",
   "id": "0b2fbeee-6fe6-42fa-bea2-9535337af4c2",
   "metadata": {},
   "source": [
    "**Q7**: The covering set problem starts with a set S = {1, 2, …, 10} and several well-defined subsets of S, for example: {1, 2, 3}, {3, 5, 7, 9}, {8, 10}, {5, 6, 7, 8}, {2, 4, 6, 8}, and asks if we can take at most k subsets of S such that their union is S. In the example problem above, the answer for k = 4 is true because we can use {1, 2, 3}, {3, 5, 7, 9}, {8, 10}, {2, 4, 6, 8}. Note that for each problems, the subsets we can work with are determined at the beginning. We cannot construct the subsets ourselves. If we had been given the subsets {1,2,3}, {4,5} {7,8,9,10} then there would be no solution because the number 6 is not in the subsets."
   ]
  },
  {
   "cell_type": "markdown",
   "id": "b490d9ea-c0d8-4949-a711-2d3dab0577ad",
   "metadata": {},
   "source": [
    "**Ans:**"
   ]
  }
 ],
 "metadata": {
  "kernelspec": {
   "display_name": "Python 3 (ipykernel)",
   "language": "python",
   "name": "python3"
  },
  "language_info": {
   "codemirror_mode": {
    "name": "ipython",
    "version": 3
   },
   "file_extension": ".py",
   "mimetype": "text/x-python",
   "name": "python",
   "nbconvert_exporter": "python",
   "pygments_lexer": "ipython3",
   "version": "3.10.12"
  }
 },
 "nbformat": 4,
 "nbformat_minor": 5
}
