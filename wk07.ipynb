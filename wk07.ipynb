{
 "cells": [
  {
   "cell_type": "markdown",
   "id": "25d94e48-b708-4f1b-84db-e89c22ca84b6",
   "metadata": {},
   "source": [
    "# [Week 7 Assignment](https://almondine-song-c43.notion.site/Homework-6-v2-2fd956fcccf742398435ab9b2da8f934)\n",
    "\n",
    "**Problem 1**\n",
    "\n",
    "Create a graph with 3 nodes and 3 edges and write constraints for a 3-coloring. Conver the 3-coloring to a rank 1 constraint system.\n",
    "\n",
    "**Problem 2**\n",
    "\n",
    "Write python code that takes an R1CS matrix A, B, and C and a witness vector w and\n",
    "verifies.\n",
    "\n",
    "*Aw* ⊙ *Bw* − *Cw* = 0\n",
    "\n",
    "Where ⊙ is the hadamard (element-wise) product.\n",
    "\n",
    "Use this to code to check your answer above is correct.\n",
    "\n",
    "**Problem 3**\n",
    "\n",
    "Given an R1CS of the form\n",
    "\n",
    "$$\n",
    "L\\mathbf{\\vec{[s]_1}}\\odot R\\mathbf{\\vec{[s]_2}} = O\\mathbf{\\vec{[s]}_{1}}\\odot\\vec{[G_2]_2}\n",
    "$$\n",
    "\n",
    "Where L, R, and O are n x m matrices of field elements and **s** is a vector of G1, G2, or G1 points\n",
    "\n",
    "Write python code that verifies the formula.\n",
    "\n",
    "You can check the equality of G12 points in Python this way:\n",
    "\n",
    "```python\n",
    "a = pairing(multiply(G2, 5), multiply(G1, 8))\n",
    "b = pairing(multiply(G2, 10), multiply(G1, 4))\n",
    "eq(a, b)\n",
    "```\n",
    "\n",
    "**Hint:** Each row of the matrices is a separate pairing.\n",
    "\n",
    "**Hint:** When you get **s** encrypted with both G1 and G2 generators, you don’t know whether or not they have the same discrete logarithm. However, it is straightforward to check using another equation. Figure out how to discover if sG1 == sG2 if you are given the elliptic curve points but not s.\n",
    "\n",
    "Solidity cannot multiply G2 points, do this assignment in Python.\n",
    "\n",
    "**Problem 4**\n",
    "\n",
    "Why does an R1CS require exactly one multiplication per row?\n",
    "\n",
    "How does this relate to bilinear pairings?"
   ]
  }
 ],
 "metadata": {
  "kernelspec": {
   "display_name": "Python 3 (ipykernel)",
   "language": "python",
   "name": "python3"
  },
  "language_info": {
   "codemirror_mode": {
    "name": "ipython",
    "version": 3
   },
   "file_extension": ".py",
   "mimetype": "text/x-python",
   "name": "python",
   "nbconvert_exporter": "python",
   "pygments_lexer": "ipython3",
   "version": "3.10.12"
  }
 },
 "nbformat": 4,
 "nbformat_minor": 5
}
