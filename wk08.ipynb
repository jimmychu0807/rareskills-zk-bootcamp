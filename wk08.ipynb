{
 "cells": [
  {
   "cell_type": "markdown",
   "id": "c894ba71-c1b5-49d1-95bd-f93275f960ee",
   "metadata": {},
   "source": [
    "# Week 8 Assignment\n",
    "\n",
    "src: <https://almondine-song-c43.notion.site/Homework-7-QAP-9142687e4ff94bda967f088a36cff41d>"
   ]
  },
  {
   "cell_type": "markdown",
   "id": "edac792c-3eeb-4cfd-b4c3-51dfe8d66ee3",
   "metadata": {},
   "source": [
    "## Problem 1\n",
    "\n",
    "Let φ be the transformation of a column vector into a polynomial like we discussed in class (using lagrange interpolation over the x values [0, 1, …, n] and the y values being the values in the vector).\n",
    "\n",
    "Use Python compute:\n",
    "\n",
    "$$\n",
    "\\phi(c\\cdot\\begin{bmatrix}x_1\\\\x_2\\\\x_3\\end{bmatrix}) = c\\cdot\\phi(\\begin{bmatrix}x_1\\\\x_2\\\\x_3\\end{bmatrix})\n",
    "$$\n",
    "\n",
    "Test out a few vectors to convince yourself this is true in general.\n",
    "\n",
    "In English, what is the above equality stating?"
   ]
  },
  {
   "cell_type": "markdown",
   "id": "f15ea1b3-75c9-4e44-b27e-95186fc47506",
   "metadata": {},
   "source": [
    "## Ans"
   ]
  },
  {
   "cell_type": "code",
   "execution_count": 31,
   "id": "6cadf67d-7f7e-4798-a810-d1618fdcfda2",
   "metadata": {},
   "outputs": [],
   "source": [
    "from scipy.interpolate import lagrange\n",
    "import numpy as np\n",
    "from numpy.polynomial import polynomial as P, Polynomial as Poly\n",
    "\n",
    "def vecToPoly(vec):\n",
    "    p1d = lagrange(list(range(len(vec))), vec)\n",
    "    return Poly(p1d.coef[::-1])\n",
    "\n",
    "# Sample test cases\n",
    "vec = [8, 10, 4, 6]\n",
    "c = 7\n",
    "\n",
    "poly1 = vecToPoly(vec) * c\n",
    "poly2 = vecToPoly(np.array(vec) * c)\n",
    "\n",
    "np.testing.assert_array_almost_equal_nulp(poly1.coef, poly2.coef)"
   ]
  },
  {
   "cell_type": "markdown",
   "id": "ed92ea28-af4b-44dd-8e11-f4d9b3ae09f3",
   "metadata": {},
   "source": [
    "What this means is that multiplying a scalar to a vector is homomorphic to multiplying the same scalar to a polynomial generated from the vector using Lagrange interpolation."
   ]
  },
  {
   "cell_type": "markdown",
   "id": "4f04fe0c-ca47-492e-b863-995402dedf58",
   "metadata": {},
   "source": [
    "## Problem 2: QAP by hand\n",
    "\n",
    "Convert the following R1CS into a QAP **over real numbers, not a finite field**\n",
    "\n",
    "```python\n",
    "import numpy as np\n",
    "import random\n",
    "\n",
    "# Define the matrices\n",
    "A = np.array([[0,0,3,0,0,0],\n",
    "               [0,0,0,0,1,0],\n",
    "               [0,0,1,0,0,0]])\n",
    "\n",
    "B = np.array([[0,0,1,0,0,0],\n",
    "               [0,0,0,1,0,0],\n",
    "               [0,0,0,5,0,0]])\n",
    "\n",
    "C = np.array([[0,0,0,0,1,0],\n",
    "               [0,0,0,0,0,1],\n",
    "               [-3,1,1,2,0,-1]])\n",
    "\n",
    "# pick values for x and y\n",
    "x = 100\n",
    "y = 100\n",
    "\n",
    "# this is our orignal formula\n",
    "out = (3 * x * x * y) + (5 * x * y) - x - (2 * y) + 3\n",
    "v1 = 3 * x * x\n",
    "v2 = v1 * y\n",
    "# the witness vector with the intermediate variables inside\n",
    "w = np.array([1, out, x, y, v1, v2])\n",
    "\n",
    "result = C.dot(w) == np.multiply(A.dot(w),B.dot(w))\n",
    "assert result.all(), \"result contains an inequality\"\n",
    "```\n",
    "\n",
    "You can use a computer (Python, sage, etc) to check your work at each step and do the Lagrange interpolate, but you must show each step.\n",
    "\n",
    "**Be sure to check the polynomials manually because you will get precision loss when interpolating over floats/real numbers.**\n",
    "\n",
    "Check your work by seeing that the polynomial on both sides of the equation is the same."
   ]
  },
  {
   "cell_type": "markdown",
   "id": "dd378d71-d482-4ec2-bc03-9868a6d06e46",
   "metadata": {},
   "source": [
    "## Ans"
   ]
  },
  {
   "cell_type": "code",
   "execution_count": 86,
   "id": "15e86b9a-d5c6-48c0-a3d4-8e07edf5d7aa",
   "metadata": {},
   "outputs": [
    {
     "name": "stdout",
     "output_type": "stream",
     "text": [
      "U: [[ 0.  0.  2.  0. -1.  0.]\n",
      " [ 0.  0. -9.  0.  4.  0.]\n",
      " [ 0.  0. 10.  0. -3.  0.]]\n",
      "V: [[ 0.   0.   0.5  1.5  0.   0. ]\n",
      " [ 0.   0.  -2.5 -3.5  0.   0. ]\n",
      " [ 0.   0.   3.   2.   0.   0. ]]\n",
      "W: [[-1.5  0.5  0.5  1.   0.5 -1.5]\n",
      " [ 4.5 -1.5 -1.5 -3.  -2.5  5.5]\n",
      " [-3.   1.   1.   2.   3.  -4. ]]\n",
      "Uw: \n",
      "           2\n",
      "-2.98e+04 x + 1.191e+05 x - 8.9e+04\n",
      "Vw: \n",
      "     2\n",
      "200 x - 600 x + 500\n",
      "Ww: \n",
      "           2\n",
      "-2.96e+06 x + 1.185e+07 x - 8.86e+06\n",
      "t: \n",
      "   3     2\n",
      "1 x - 6 x + 11 x - 6\n",
      "h: \n",
      "(poly1d([-5960000.,  5940000.]), poly1d([0.]))\n"
     ]
    }
   ],
   "source": [
    "# We have Ls . Rs = Os\n",
    "# We want to convert into Uw . Vw = Ww + h(x)t(x) where Uw, Vw, and Ww are polynomials\n",
    "\n",
    "import numpy as np\n",
    "from scipy.interpolate import lagrange\n",
    "\n",
    "def transformWithLagrange(v):\n",
    "    rows, cols = v.shape\n",
    "    ret = np.zeros((cols, rows))\n",
    "    for i in range(0, cols):\n",
    "        col = lagrange(list(range(1, rows + 1)), v[:,i]).coef\n",
    "        ret[i] = col\n",
    "    ret = ret.transpose()\n",
    "    return ret\n",
    "\n",
    "# Define the matrices\n",
    "L = np.array([[0,0,3,0,0,0],\n",
    "               [0,0,0,0,1,0],\n",
    "               [0,0,1,0,0,0]])\n",
    "\n",
    "R = np.array([[0,0,1,0,0,0],\n",
    "               [0,0,0,1,0,0],\n",
    "               [0,0,0,5,0,0]])\n",
    "\n",
    "O = np.array([[0,0,0,0,1,0],\n",
    "               [0,0,0,0,0,1],\n",
    "               [-3,1,1,2,0,-1]])    \n",
    "\n",
    "# Converting L to U\n",
    "U = transformWithLagrange(L)\n",
    "print(f\"U: {U}\")\n",
    "\n",
    "# Converting R to V\n",
    "V = transformWithLagrange(R)\n",
    "print(f\"V: {V}\")\n",
    "\n",
    "# Converting O to W\n",
    "W = transformWithLagrange(O)\n",
    "print(f\"W: {W}\")\n",
    "\n",
    "# witness\n",
    "x = 100\n",
    "y = 100\n",
    "v1 = 3*x*x\n",
    "v2 = v1*y\n",
    "out = v2 + 5*x*y - x - 2 * y + 3\n",
    "witness = np.array([1, out, x, y, v1, v2])\n",
    "\n",
    "# Uw . Vw = Ww + h(x)t(x)\n",
    "Uw = np.poly1d(np.matmul(U, witness))\n",
    "Vw = np.poly1d(np.matmul(V, witness))\n",
    "Ww = np.poly1d(np.matmul(W, witness))\n",
    "\n",
    "t = np.poly1d([1, -1]) \\\n",
    "    * np.poly1d([1, -2]) \\\n",
    "    * np.poly1d([1, -3])\n",
    "h = (Uw * Vw - Ww)/t\n",
    "\n",
    "print(f\"Uw: \\n{Uw}\")\n",
    "print(f\"Vw: \\n{Vw}\")\n",
    "print(f\"Ww: \\n{Ww}\")\n",
    "print(f\"t: \\n{t}\")\n",
    "print(f\"h: \\n{h}\")"
   ]
  },
  {
   "cell_type": "markdown",
   "id": "d93d40f7-9d33-44bf-8bdc-0b579c5e0706",
   "metadata": {},
   "source": [
    "## Problem 3: QAP over a finite field\n",
    "\n",
    "Refer to the code here: https://www.rareskills.io/post/r1cs-to-qap\n",
    "\n",
    "Do the same operation R1CS above but convert it to a QAP over a finite field. Don’t do it by hand, use Python. If you pick GF79 like the article does, you’ll need to find the congruent element in the field since some of the scalar values for the R1CS above will be negative or be larger than 79."
   ]
  },
  {
   "cell_type": "markdown",
   "id": "5aae0b7d-3c50-4344-98b4-efa55211f145",
   "metadata": {},
   "source": [
    "## Ans"
   ]
  },
  {
   "cell_type": "code",
   "execution_count": 74,
   "id": "46f509ce-1a9b-449b-9bce-971e63431315",
   "metadata": {},
   "outputs": [
    {
     "data": {
      "text/plain": [
       "array([[0., 0., 0., 0.],\n",
       "       [0., 0., 0., 0.],\n",
       "       [0., 0., 0., 0.]])"
      ]
     },
     "execution_count": 74,
     "metadata": {},
     "output_type": "execute_result"
    }
   ],
   "source": [
    "import numpy as np\n",
    "\n",
    "w = np.empty([3 , 4])\n",
    "w"
   ]
  }
 ],
 "metadata": {
  "kernelspec": {
   "display_name": "Python 3 (ipykernel)",
   "language": "python",
   "name": "python3"
  },
  "language_info": {
   "codemirror_mode": {
    "name": "ipython",
    "version": 3
   },
   "file_extension": ".py",
   "mimetype": "text/x-python",
   "name": "python",
   "nbconvert_exporter": "python",
   "pygments_lexer": "ipython3",
   "version": "3.10.12"
  }
 },
 "nbformat": 4,
 "nbformat_minor": 5
}
