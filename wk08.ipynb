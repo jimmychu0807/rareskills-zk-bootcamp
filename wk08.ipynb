{
 "cells": [
  {
   "cell_type": "markdown",
   "id": "c894ba71-c1b5-49d1-95bd-f93275f960ee",
   "metadata": {},
   "source": [
    "# Week 8 Assignment\n",
    "\n",
    "src: <https://almondine-song-c43.notion.site/Homework-7-QAP-9142687e4ff94bda967f088a36cff41d>"
   ]
  },
  {
   "cell_type": "markdown",
   "id": "edac792c-3eeb-4cfd-b4c3-51dfe8d66ee3",
   "metadata": {},
   "source": [
    "## Problem 1\n",
    "\n",
    "Let φ be the transformation of a column vector into a polynomial like we discussed in class (using lagrange interpolation over the x values [0, 1, …, n] and the y values being the values in the vector).\n",
    "\n",
    "Use Python compute:\n",
    "\n",
    "$$\n",
    "\\phi(c\\cdot\\begin{bmatrix}x_1\\\\x_2\\\\x_3\\end{bmatrix}) = c\\cdot\\phi(\\begin{bmatrix}x_1\\\\x_2\\\\x_3\\end{bmatrix})\n",
    "$$\n",
    "\n",
    "Test out a few vectors to convince yourself this is true in general.\n",
    "\n",
    "In English, what is the above equality stating?"
   ]
  },
  {
   "cell_type": "markdown",
   "id": "4f04fe0c-ca47-492e-b863-995402dedf58",
   "metadata": {},
   "source": [
    "## Problem 2: QAP by hand\n",
    "\n",
    "Convert the following R1CS into a QAP **over real numbers, not a finite field**\n",
    "\n",
    "```python\n",
    "import numpy as np\n",
    "import random\n",
    "\n",
    "# Define the matrices\n",
    "A = np.array([[0,0,3,0,0,0],\n",
    "               [0,0,0,0,1,0],\n",
    "               [0,0,1,0,0,0]])\n",
    "\n",
    "B = np.array([[0,0,1,0,0,0],\n",
    "               [0,0,0,1,0,0],\n",
    "               [0,0,0,5,0,0]])\n",
    "\n",
    "C = np.array([[0,0,0,0,1,0],\n",
    "               [0,0,0,0,0,1],\n",
    "               [-3,1,1,2,0,-1]])\n",
    "\n",
    "# pick values for x and y\n",
    "x = 100\n",
    "y = 100\n",
    "\n",
    "# this is our orignal formula\n",
    "out = 3 * x * x * y + 5 * x * y - x- 2*y + 3# the witness vector with the intermediate variables inside\n",
    "v1 = 3*x*x\n",
    "v2 = v1 * y\n",
    "w = np.array([1, out, x, y, v1, v2])\n",
    "\n",
    "result = C.dot(w) == np.multiply(A.dot(w),B.dot(w))\n",
    "assert result.all(), \"result contains an inequality\"\n",
    "```\n",
    "\n",
    "You can use a computer (Python, sage, etc) to check your work at each step and do the Lagrange interpolate, but you must show each step.\n",
    "\n",
    "**Be sure to check the polynomials manually because you will get precision loss when interpolating over floats/real numbers.**\n",
    "\n",
    "Check your work by seeing that the polynomial on both sides of the equation is the same."
   ]
  },
  {
   "cell_type": "markdown",
   "id": "d93d40f7-9d33-44bf-8bdc-0b579c5e0706",
   "metadata": {},
   "source": [
    "## Problem 3: QAP over a finite field\n",
    "\n",
    "Refer to the code here: https://www.rareskills.io/post/r1cs-to-qap\n",
    "\n",
    "Do the same operation R1CS above but convert it to a QAP over a finite field. Don’t do it by hand, use Python. If you pick GF79 like the article does, you’ll need to find the congruent element in the field since some of the scalar values for the R1CS above will be negative or be larger than 79."
   ]
  }
 ],
 "metadata": {
  "kernelspec": {
   "display_name": "Python 3 (ipykernel)",
   "language": "python",
   "name": "python3"
  },
  "language_info": {
   "codemirror_mode": {
    "name": "ipython",
    "version": 3
   },
   "file_extension": ".py",
   "mimetype": "text/x-python",
   "name": "python",
   "nbconvert_exporter": "python",
   "pygments_lexer": "ipython3",
   "version": "3.10.12"
  }
 },
 "nbformat": 4,
 "nbformat_minor": 5
}
