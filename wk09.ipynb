{
 "cells": [
  {
   "cell_type": "markdown",
   "id": "5833e466-b2ca-432c-9c0a-0a67373a547b",
   "metadata": {},
   "source": [
    "# Week 9 Assignment: Encrypted QAP\n",
    "\n",
    "src: <https://almondine-song-c43.notion.site/Homework-8-Encrypted-QAP-4d75259eac0246aa86ed48b51e7700b6>"
   ]
  },
  {
   "cell_type": "markdown",
   "id": "8bd10366-12d7-41a8-a793-6b7d78c12384",
   "metadata": {},
   "source": [
    "Given an R1CS, you should transform it into a QAP (you can use the code from the RareSkills ZK Book for this).\n",
    "\n",
    "This will produce polynomials U, V, W, and HT (see the notation in the book).\n",
    "\n",
    "Do an encrypted evaluation of each of these polynomials, this will result in\n",
    "\n",
    "$$\n",
    "eval(U) = [A]_1\\\\eval(V)=[B]_2,\\\\ eval(W)=[C']_1,\\\\ eval(HT)=[HT]_1\n",
    "$$\n",
    "\n",
    "Create\n",
    "\n",
    "$$\n",
    "[C]=[C']_1+[HT]_1\n",
    "$$\n",
    "\n",
    "Then verify that\n",
    "\n",
    "$$\n",
    "\\text{pairing}([A]_1,[B]_2)-\\text{pairing}([C]_1,[G]_2) = 0\n",
    "$$\n",
    "\n",
    "Do the verification on chain.\n",
    "\n",
    "Your code should be able to start with an arbitrary R1CS and compute the three elliptic curve points\n",
    "\n",
    "$$\n",
    "[A]_1, [B]_2, [C]_1\n",
    "$$\n",
    "\n",
    "for which the verifier will check if the pairing is correct."
   ]
  }
 ],
 "metadata": {
  "kernelspec": {
   "display_name": "Python 3 (ipykernel)",
   "language": "python",
   "name": "python3"
  },
  "language_info": {
   "codemirror_mode": {
    "name": "ipython",
    "version": 3
   },
   "file_extension": ".py",
   "mimetype": "text/x-python",
   "name": "python",
   "nbconvert_exporter": "python",
   "pygments_lexer": "ipython3",
   "version": "3.10.12"
  }
 },
 "nbformat": 4,
 "nbformat_minor": 5
}
